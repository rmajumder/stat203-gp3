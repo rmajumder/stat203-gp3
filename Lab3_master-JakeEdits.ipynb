{
 "cells": [
  {
   "cell_type": "markdown",
   "metadata": {},
   "source": [
    "<h1> Lab 3</h1>\n",
    "<h3> W203 Statistics for Data Science </h3>\n",
    "\n",
    "Author Names: Jake Mitchell, Rishikesh Majumder, Tej Singh\n",
    "\n",
    "Section Number: Fall_Wed_06:30"
   ]
  },
  {
   "cell_type": "code",
   "execution_count": 27,
   "metadata": {},
   "outputs": [],
   "source": [
    "# Load necessary libraries\n",
    "library(ggplot2)\n",
    "library(GGally)\n",
    "library(ggcorrplot)\n",
    "library(ggpubr)\n",
    "library(car)\n",
    "library(carData)\n",
    "library(stats)\n",
    "library(stargazer)\n",
    "\n",
    "#library(dplyr)\n",
    "\n",
    "options(repr.matrix.max.rows = 100)\n",
    "options(repr.matrix.max.cols = 30)\n",
    "options(repr.plot.width=10, repr.plot.height=10)"
   ]
  },
  {
   "cell_type": "markdown",
   "metadata": {},
   "source": [
    "# CHANGED\n",
    "<h3>Introduction</h3>\n",
    "<h4> Team </h4>\n",
    "We are a team from a leading analytical consulting firm on the East Coast. We specialize in empirical analysis of demographic data and provide a wide band of predictable outcomes which help in shaping the legislative agenda.   \n",
    "\n",
    "<h4> Agenda </h4>\n",
    "As part of the next year's election campaign, we are tasked with analyzing historical crime data from various counties in North Carolina. The goal of this project is to predict the reason or a set of reasons behind the high crime rate. Once causal estimates are shown through statistical inferences, we will address the issues with possible policy changes.\n",
    "\n",
    "<h4> Analytical Process Steps </h4>\n",
    "1. Import and explore the data to get a feeling of data quality.\n",
    "2. Transform data to remove or replace unexpected values.\n",
    "3. Analyze relationships between different variables and choose statistically significant for the regression process.\n",
    "4. Create multiple linear models and compare their robustness/effectiveness through the model summaries.\n",
    "5. Detect omitted variable bias, and provide analysis on what effects the omitted variables have.\n",
    "6. Propose a set of policy changes to the concerned authority that may help reduce crime rates. "
   ]
  },
  {
   "cell_type": "markdown",
   "metadata": {},
   "source": [
    "### EDA"
   ]
  },
  {
   "cell_type": "markdown",
   "metadata": {},
   "source": [
    "Import the data and take a brief look at first few rows."
   ]
  },
  {
   "cell_type": "markdown",
   "metadata": {},
   "source": [
    "# CHANGED"
   ]
  },
  {
   "cell_type": "code",
   "execution_count": 15,
   "metadata": {},
   "outputs": [
    {
     "data": {
      "text/html": [
       "<table>\n",
       "<thead><tr><th scope=col>county</th><th scope=col>year</th><th scope=col>crmrte</th><th scope=col>prbarr</th><th scope=col>prbconv</th><th scope=col>prbpris</th><th scope=col>avgsen</th><th scope=col>polpc</th><th scope=col>density</th><th scope=col>taxpc</th><th scope=col>west</th><th scope=col>central</th><th scope=col>urban</th><th scope=col>pctmin80</th><th scope=col>wcon</th><th scope=col>wtuc</th><th scope=col>wtrd</th><th scope=col>wfir</th><th scope=col>wser</th><th scope=col>wmfg</th><th scope=col>wfed</th><th scope=col>wsta</th><th scope=col>wloc</th><th scope=col>mix</th><th scope=col>pctymle</th></tr></thead>\n",
       "<tbody>\n",
       "\t<tr><td> 1         </td><td>87         </td><td>0.0356036  </td><td>0.298270   </td><td>0.527595997</td><td>0.436170   </td><td> 6.71      </td><td>0.00182786 </td><td>2.4226327  </td><td>30.99368   </td><td>0          </td><td>1          </td><td>0          </td><td>20.21870   </td><td>281.4259   </td><td>408.7245   </td><td>221.2701   </td><td>453.1722   </td><td>274.1775   </td><td>334.54     </td><td>477.58     </td><td>292.09     </td><td>311.91     </td><td>0.08016878 </td><td>0.07787097 </td></tr>\n",
       "\t<tr><td> 3         </td><td>87         </td><td>0.0152532  </td><td>0.132029   </td><td>1.481480002</td><td>0.450000   </td><td> 6.35      </td><td>0.00074588 </td><td>1.0463320  </td><td>26.89208   </td><td>0          </td><td>1          </td><td>0          </td><td> 7.91632   </td><td>255.1020   </td><td>376.2542   </td><td>196.0101   </td><td>258.5650   </td><td>192.3077   </td><td>300.38     </td><td>409.83     </td><td>362.96     </td><td>301.47     </td><td>0.03022670 </td><td>0.08260694 </td></tr>\n",
       "\t<tr><td> 5         </td><td>87         </td><td>0.0129603  </td><td>0.444444   </td><td>0.267856985</td><td>0.600000   </td><td> 6.76      </td><td>0.00123431 </td><td>0.4127659  </td><td>34.81605   </td><td>1          </td><td>0          </td><td>0          </td><td> 3.16053   </td><td>226.9470   </td><td>372.2084   </td><td>229.3209   </td><td>305.9441   </td><td>209.6972   </td><td>237.65     </td><td>358.98     </td><td>331.53     </td><td>281.37     </td><td>0.46511629 </td><td>0.07211538 </td></tr>\n",
       "\t<tr><td> 7         </td><td>87         </td><td>0.0267532  </td><td>0.364760   </td><td>0.525424004</td><td>0.435484   </td><td> 7.14      </td><td>0.00152994 </td><td>0.4915572  </td><td>42.94759   </td><td>0          </td><td>1          </td><td>0          </td><td>47.91610   </td><td>375.2345   </td><td>397.6901   </td><td>191.1720   </td><td>281.0651   </td><td>256.7214   </td><td>281.80     </td><td>412.15     </td><td>328.27     </td><td>299.03     </td><td>0.27362204 </td><td>0.07353726 </td></tr>\n",
       "\t<tr><td> 9         </td><td>87         </td><td>0.0106232  </td><td>0.518219   </td><td>0.476563007</td><td>0.442623   </td><td> 8.22      </td><td>0.00086018 </td><td>0.5469484  </td><td>28.05474   </td><td>1          </td><td>0          </td><td>0          </td><td> 1.79619   </td><td>292.3077   </td><td>377.3126   </td><td>206.8215   </td><td>289.3125   </td><td>215.1933   </td><td>290.89     </td><td>377.35     </td><td>367.23     </td><td>342.82     </td><td>0.06008584 </td><td>0.07069755 </td></tr>\n",
       "\t<tr><td>11         </td><td>87         </td><td>0.0146067  </td><td>0.524664   </td><td>0.068376102</td><td>0.500000   </td><td>13.00      </td><td>0.00288203 </td><td>0.6113361  </td><td>35.22974   </td><td>1          </td><td>0          </td><td>0          </td><td> 1.54070   </td><td>250.4006   </td><td>401.3378   </td><td>187.8255   </td><td>258.5650   </td><td>237.1507   </td><td>258.60     </td><td>391.48     </td><td>325.71     </td><td>275.22     </td><td>0.31952664 </td><td>0.09891920 </td></tr>\n",
       "</tbody>\n",
       "</table>\n"
      ],
      "text/latex": [
       "\\begin{tabular}{r|lllllllllllllllllllllllll}\n",
       " county & year & crmrte & prbarr & prbconv & prbpris & avgsen & polpc & density & taxpc & west & central & urban & pctmin80 & wcon & wtuc & wtrd & wfir & wser & wmfg & wfed & wsta & wloc & mix & pctymle\\\\\n",
       "\\hline\n",
       "\t  1          & 87          & 0.0356036   & 0.298270    & 0.527595997 & 0.436170    &  6.71       & 0.00182786  & 2.4226327   & 30.99368    & 0           & 1           & 0           & 20.21870    & 281.4259    & 408.7245    & 221.2701    & 453.1722    & 274.1775    & 334.54      & 477.58      & 292.09      & 311.91      & 0.08016878  & 0.07787097 \\\\\n",
       "\t  3          & 87          & 0.0152532   & 0.132029    & 1.481480002 & 0.450000    &  6.35       & 0.00074588  & 1.0463320   & 26.89208    & 0           & 1           & 0           &  7.91632    & 255.1020    & 376.2542    & 196.0101    & 258.5650    & 192.3077    & 300.38      & 409.83      & 362.96      & 301.47      & 0.03022670  & 0.08260694 \\\\\n",
       "\t  5          & 87          & 0.0129603   & 0.444444    & 0.267856985 & 0.600000    &  6.76       & 0.00123431  & 0.4127659   & 34.81605    & 1           & 0           & 0           &  3.16053    & 226.9470    & 372.2084    & 229.3209    & 305.9441    & 209.6972    & 237.65      & 358.98      & 331.53      & 281.37      & 0.46511629  & 0.07211538 \\\\\n",
       "\t  7          & 87          & 0.0267532   & 0.364760    & 0.525424004 & 0.435484    &  7.14       & 0.00152994  & 0.4915572   & 42.94759    & 0           & 1           & 0           & 47.91610    & 375.2345    & 397.6901    & 191.1720    & 281.0651    & 256.7214    & 281.80      & 412.15      & 328.27      & 299.03      & 0.27362204  & 0.07353726 \\\\\n",
       "\t  9          & 87          & 0.0106232   & 0.518219    & 0.476563007 & 0.442623    &  8.22       & 0.00086018  & 0.5469484   & 28.05474    & 1           & 0           & 0           &  1.79619    & 292.3077    & 377.3126    & 206.8215    & 289.3125    & 215.1933    & 290.89      & 377.35      & 367.23      & 342.82      & 0.06008584  & 0.07069755 \\\\\n",
       "\t 11          & 87          & 0.0146067   & 0.524664    & 0.068376102 & 0.500000    & 13.00       & 0.00288203  & 0.6113361   & 35.22974    & 1           & 0           & 0           &  1.54070    & 250.4006    & 401.3378    & 187.8255    & 258.5650    & 237.1507    & 258.60      & 391.48      & 325.71      & 275.22      & 0.31952664  & 0.09891920 \\\\\n",
       "\\end{tabular}\n"
      ],
      "text/markdown": [
       "\n",
       "county | year | crmrte | prbarr | prbconv | prbpris | avgsen | polpc | density | taxpc | west | central | urban | pctmin80 | wcon | wtuc | wtrd | wfir | wser | wmfg | wfed | wsta | wloc | mix | pctymle | \n",
       "|---|---|---|---|---|---|\n",
       "|  1          | 87          | 0.0356036   | 0.298270    | 0.527595997 | 0.436170    |  6.71       | 0.00182786  | 2.4226327   | 30.99368    | 0           | 1           | 0           | 20.21870    | 281.4259    | 408.7245    | 221.2701    | 453.1722    | 274.1775    | 334.54      | 477.58      | 292.09      | 311.91      | 0.08016878  | 0.07787097  | \n",
       "|  3          | 87          | 0.0152532   | 0.132029    | 1.481480002 | 0.450000    |  6.35       | 0.00074588  | 1.0463320   | 26.89208    | 0           | 1           | 0           |  7.91632    | 255.1020    | 376.2542    | 196.0101    | 258.5650    | 192.3077    | 300.38      | 409.83      | 362.96      | 301.47      | 0.03022670  | 0.08260694  | \n",
       "|  5          | 87          | 0.0129603   | 0.444444    | 0.267856985 | 0.600000    |  6.76       | 0.00123431  | 0.4127659   | 34.81605    | 1           | 0           | 0           |  3.16053    | 226.9470    | 372.2084    | 229.3209    | 305.9441    | 209.6972    | 237.65      | 358.98      | 331.53      | 281.37      | 0.46511629  | 0.07211538  | \n",
       "|  7          | 87          | 0.0267532   | 0.364760    | 0.525424004 | 0.435484    |  7.14       | 0.00152994  | 0.4915572   | 42.94759    | 0           | 1           | 0           | 47.91610    | 375.2345    | 397.6901    | 191.1720    | 281.0651    | 256.7214    | 281.80      | 412.15      | 328.27      | 299.03      | 0.27362204  | 0.07353726  | \n",
       "|  9          | 87          | 0.0106232   | 0.518219    | 0.476563007 | 0.442623    |  8.22       | 0.00086018  | 0.5469484   | 28.05474    | 1           | 0           | 0           |  1.79619    | 292.3077    | 377.3126    | 206.8215    | 289.3125    | 215.1933    | 290.89      | 377.35      | 367.23      | 342.82      | 0.06008584  | 0.07069755  | \n",
       "| 11          | 87          | 0.0146067   | 0.524664    | 0.068376102 | 0.500000    | 13.00       | 0.00288203  | 0.6113361   | 35.22974    | 1           | 0           | 0           |  1.54070    | 250.4006    | 401.3378    | 187.8255    | 258.5650    | 237.1507    | 258.60      | 391.48      | 325.71      | 275.22      | 0.31952664  | 0.09891920  | \n",
       "\n",
       "\n"
      ],
      "text/plain": [
       "  county year crmrte    prbarr   prbconv     prbpris  avgsen polpc     \n",
       "1  1     87   0.0356036 0.298270 0.527595997 0.436170  6.71  0.00182786\n",
       "2  3     87   0.0152532 0.132029 1.481480002 0.450000  6.35  0.00074588\n",
       "3  5     87   0.0129603 0.444444 0.267856985 0.600000  6.76  0.00123431\n",
       "4  7     87   0.0267532 0.364760 0.525424004 0.435484  7.14  0.00152994\n",
       "5  9     87   0.0106232 0.518219 0.476563007 0.442623  8.22  0.00086018\n",
       "6 11     87   0.0146067 0.524664 0.068376102 0.500000 13.00  0.00288203\n",
       "  density   taxpc    west central urban pctmin80 wcon     wtuc     wtrd    \n",
       "1 2.4226327 30.99368 0    1       0     20.21870 281.4259 408.7245 221.2701\n",
       "2 1.0463320 26.89208 0    1       0      7.91632 255.1020 376.2542 196.0101\n",
       "3 0.4127659 34.81605 1    0       0      3.16053 226.9470 372.2084 229.3209\n",
       "4 0.4915572 42.94759 0    1       0     47.91610 375.2345 397.6901 191.1720\n",
       "5 0.5469484 28.05474 1    0       0      1.79619 292.3077 377.3126 206.8215\n",
       "6 0.6113361 35.22974 1    0       0      1.54070 250.4006 401.3378 187.8255\n",
       "  wfir     wser     wmfg   wfed   wsta   wloc   mix        pctymle   \n",
       "1 453.1722 274.1775 334.54 477.58 292.09 311.91 0.08016878 0.07787097\n",
       "2 258.5650 192.3077 300.38 409.83 362.96 301.47 0.03022670 0.08260694\n",
       "3 305.9441 209.6972 237.65 358.98 331.53 281.37 0.46511629 0.07211538\n",
       "4 281.0651 256.7214 281.80 412.15 328.27 299.03 0.27362204 0.07353726\n",
       "5 289.3125 215.1933 290.89 377.35 367.23 342.82 0.06008584 0.07069755\n",
       "6 258.5650 237.1507 258.60 391.48 325.71 275.22 0.31952664 0.09891920"
      ]
     },
     "metadata": {},
     "output_type": "display_data"
    }
   ],
   "source": [
    "#Import data\n",
    "data <- read.csv(file = 'crime_v2.csv')\n",
    "#Peek\n",
    "head(data)"
   ]
  },
  {
   "cell_type": "markdown",
   "metadata": {},
   "source": [
    "Get summary of data and spot anomalies"
   ]
  },
  {
   "cell_type": "code",
   "execution_count": 16,
   "metadata": {},
   "outputs": [
    {
     "data": {
      "text/plain": [
       "     county           year        crmrte             prbarr       \n",
       " Min.   :  1.0   Min.   :87   Min.   :0.005533   Min.   :0.09277  \n",
       " 1st Qu.: 52.0   1st Qu.:87   1st Qu.:0.020927   1st Qu.:0.20568  \n",
       " Median :105.0   Median :87   Median :0.029986   Median :0.27095  \n",
       " Mean   :101.6   Mean   :87   Mean   :0.033400   Mean   :0.29492  \n",
       " 3rd Qu.:152.0   3rd Qu.:87   3rd Qu.:0.039642   3rd Qu.:0.34438  \n",
       " Max.   :197.0   Max.   :87   Max.   :0.098966   Max.   :1.09091  \n",
       " NA's   :6       NA's   :6    NA's   :6          NA's   :6        \n",
       "        prbconv      prbpris           avgsen           polpc         \n",
       "            : 5   Min.   :0.1500   Min.   : 5.380   Min.   :0.000746  \n",
       " 0.588859022: 2   1st Qu.:0.3648   1st Qu.: 7.340   1st Qu.:0.001231  \n",
       " `          : 1   Median :0.4234   Median : 9.100   Median :0.001485  \n",
       " 0.068376102: 1   Mean   :0.4108   Mean   : 9.647   Mean   :0.001702  \n",
       " 0.140350997: 1   3rd Qu.:0.4568   3rd Qu.:11.420   3rd Qu.:0.001877  \n",
       " 0.154451996: 1   Max.   :0.6000   Max.   :20.700   Max.   :0.009054  \n",
       " (Other)    :86   NA's   :6        NA's   :6        NA's   :6         \n",
       "    density            taxpc             west           central      \n",
       " Min.   :0.00002   Min.   : 25.69   Min.   :0.0000   Min.   :0.0000  \n",
       " 1st Qu.:0.54741   1st Qu.: 30.66   1st Qu.:0.0000   1st Qu.:0.0000  \n",
       " Median :0.96226   Median : 34.87   Median :0.0000   Median :0.0000  \n",
       " Mean   :1.42884   Mean   : 38.06   Mean   :0.2527   Mean   :0.3736  \n",
       " 3rd Qu.:1.56824   3rd Qu.: 40.95   3rd Qu.:0.5000   3rd Qu.:1.0000  \n",
       " Max.   :8.82765   Max.   :119.76   Max.   :1.0000   Max.   :1.0000  \n",
       " NA's   :6         NA's   :6        NA's   :6        NA's   :6       \n",
       "     urban            pctmin80           wcon            wtuc      \n",
       " Min.   :0.00000   Min.   : 1.284   Min.   :193.6   Min.   :187.6  \n",
       " 1st Qu.:0.00000   1st Qu.: 9.845   1st Qu.:250.8   1st Qu.:374.6  \n",
       " Median :0.00000   Median :24.312   Median :281.4   Median :406.5  \n",
       " Mean   :0.08791   Mean   :25.495   Mean   :285.4   Mean   :411.7  \n",
       " 3rd Qu.:0.00000   3rd Qu.:38.142   3rd Qu.:314.8   3rd Qu.:443.4  \n",
       " Max.   :1.00000   Max.   :64.348   Max.   :436.8   Max.   :613.2  \n",
       " NA's   :6         NA's   :6        NA's   :6       NA's   :6      \n",
       "      wtrd            wfir            wser             wmfg      \n",
       " Min.   :154.2   Min.   :170.9   Min.   : 133.0   Min.   :157.4  \n",
       " 1st Qu.:190.9   1st Qu.:286.5   1st Qu.: 229.7   1st Qu.:288.9  \n",
       " Median :203.0   Median :317.3   Median : 253.2   Median :320.2  \n",
       " Mean   :211.6   Mean   :322.1   Mean   : 275.6   Mean   :335.6  \n",
       " 3rd Qu.:225.1   3rd Qu.:345.4   3rd Qu.: 280.5   3rd Qu.:359.6  \n",
       " Max.   :354.7   Max.   :509.5   Max.   :2177.1   Max.   :646.9  \n",
       " NA's   :6       NA's   :6       NA's   :6        NA's   :6      \n",
       "      wfed            wsta            wloc            mix         \n",
       " Min.   :326.1   Min.   :258.3   Min.   :239.2   Min.   :0.01961  \n",
       " 1st Qu.:400.2   1st Qu.:329.3   1st Qu.:297.3   1st Qu.:0.08074  \n",
       " Median :449.8   Median :357.7   Median :308.1   Median :0.10186  \n",
       " Mean   :442.9   Mean   :357.5   Mean   :312.7   Mean   :0.12884  \n",
       " 3rd Qu.:478.0   3rd Qu.:382.6   3rd Qu.:329.2   3rd Qu.:0.15175  \n",
       " Max.   :598.0   Max.   :499.6   Max.   :388.1   Max.   :0.46512  \n",
       " NA's   :6       NA's   :6       NA's   :6       NA's   :6        \n",
       "    pctymle       \n",
       " Min.   :0.06216  \n",
       " 1st Qu.:0.07443  \n",
       " Median :0.07771  \n",
       " Mean   :0.08396  \n",
       " 3rd Qu.:0.08350  \n",
       " Max.   :0.24871  \n",
       " NA's   :6        "
      ]
     },
     "metadata": {},
     "output_type": "display_data"
    }
   ],
   "source": [
    "summary(data)"
   ]
  },
  {
   "cell_type": "markdown",
   "metadata": {},
   "source": [
    "All the variables are numeric with different range and scale. For all the columns in the data frame, there are 6 observations without any values and the 'prbconv' contains a bad value, '`'. This small number of anomalies should be transformed with appropriate adjusted values before the OLS regression.\n",
    "\n",
    "A close look at the county and year variables show that they lack variability with observations and those may not contribute much to the analysis process."
   ]
  },
  {
   "cell_type": "markdown",
   "metadata": {},
   "source": [
    "#### Transformation"
   ]
  },
  {
   "cell_type": "markdown",
   "metadata": {},
   "source": [
    "Find out all the rows with 'NA' values."
   ]
  },
  {
   "cell_type": "markdown",
   "metadata": {},
   "source": [
    "# CHANGED"
   ]
  },
  {
   "cell_type": "code",
   "execution_count": 17,
   "metadata": {},
   "outputs": [
    {
     "data": {
      "text/html": [
       "<table>\n",
       "<thead><tr><th></th><th scope=col>county</th><th scope=col>year</th><th scope=col>crmrte</th><th scope=col>prbarr</th><th scope=col>prbconv</th><th scope=col>prbpris</th><th scope=col>avgsen</th><th scope=col>polpc</th><th scope=col>density</th><th scope=col>taxpc</th><th scope=col>west</th><th scope=col>central</th><th scope=col>urban</th><th scope=col>pctmin80</th><th scope=col>wcon</th><th scope=col>wtuc</th><th scope=col>wtrd</th><th scope=col>wfir</th><th scope=col>wser</th><th scope=col>wmfg</th><th scope=col>wfed</th><th scope=col>wsta</th><th scope=col>wloc</th><th scope=col>mix</th><th scope=col>pctymle</th></tr></thead>\n",
       "<tbody>\n",
       "\t<tr><th scope=row>92</th><td>NA</td><td>NA</td><td>NA</td><td>NA</td><td>  </td><td>NA</td><td>NA</td><td>NA</td><td>NA</td><td>NA</td><td>NA</td><td>NA</td><td>NA</td><td>NA</td><td>NA</td><td>NA</td><td>NA</td><td>NA</td><td>NA</td><td>NA</td><td>NA</td><td>NA</td><td>NA</td><td>NA</td><td>NA</td></tr>\n",
       "\t<tr><th scope=row>93</th><td>NA</td><td>NA</td><td>NA</td><td>NA</td><td>  </td><td>NA</td><td>NA</td><td>NA</td><td>NA</td><td>NA</td><td>NA</td><td>NA</td><td>NA</td><td>NA</td><td>NA</td><td>NA</td><td>NA</td><td>NA</td><td>NA</td><td>NA</td><td>NA</td><td>NA</td><td>NA</td><td>NA</td><td>NA</td></tr>\n",
       "\t<tr><th scope=row>94</th><td>NA</td><td>NA</td><td>NA</td><td>NA</td><td>  </td><td>NA</td><td>NA</td><td>NA</td><td>NA</td><td>NA</td><td>NA</td><td>NA</td><td>NA</td><td>NA</td><td>NA</td><td>NA</td><td>NA</td><td>NA</td><td>NA</td><td>NA</td><td>NA</td><td>NA</td><td>NA</td><td>NA</td><td>NA</td></tr>\n",
       "\t<tr><th scope=row>95</th><td>NA</td><td>NA</td><td>NA</td><td>NA</td><td>  </td><td>NA</td><td>NA</td><td>NA</td><td>NA</td><td>NA</td><td>NA</td><td>NA</td><td>NA</td><td>NA</td><td>NA</td><td>NA</td><td>NA</td><td>NA</td><td>NA</td><td>NA</td><td>NA</td><td>NA</td><td>NA</td><td>NA</td><td>NA</td></tr>\n",
       "\t<tr><th scope=row>96</th><td>NA</td><td>NA</td><td>NA</td><td>NA</td><td>  </td><td>NA</td><td>NA</td><td>NA</td><td>NA</td><td>NA</td><td>NA</td><td>NA</td><td>NA</td><td>NA</td><td>NA</td><td>NA</td><td>NA</td><td>NA</td><td>NA</td><td>NA</td><td>NA</td><td>NA</td><td>NA</td><td>NA</td><td>NA</td></tr>\n",
       "\t<tr><th scope=row>97</th><td>NA</td><td>NA</td><td>NA</td><td>NA</td><td>` </td><td>NA</td><td>NA</td><td>NA</td><td>NA</td><td>NA</td><td>NA</td><td>NA</td><td>NA</td><td>NA</td><td>NA</td><td>NA</td><td>NA</td><td>NA</td><td>NA</td><td>NA</td><td>NA</td><td>NA</td><td>NA</td><td>NA</td><td>NA</td></tr>\n",
       "</tbody>\n",
       "</table>\n"
      ],
      "text/latex": [
       "\\begin{tabular}{r|lllllllllllllllllllllllll}\n",
       "  & county & year & crmrte & prbarr & prbconv & prbpris & avgsen & polpc & density & taxpc & west & central & urban & pctmin80 & wcon & wtuc & wtrd & wfir & wser & wmfg & wfed & wsta & wloc & mix & pctymle\\\\\n",
       "\\hline\n",
       "\t92 & NA & NA & NA & NA &    & NA & NA & NA & NA & NA & NA & NA & NA & NA & NA & NA & NA & NA & NA & NA & NA & NA & NA & NA & NA\\\\\n",
       "\t93 & NA & NA & NA & NA &    & NA & NA & NA & NA & NA & NA & NA & NA & NA & NA & NA & NA & NA & NA & NA & NA & NA & NA & NA & NA\\\\\n",
       "\t94 & NA & NA & NA & NA &    & NA & NA & NA & NA & NA & NA & NA & NA & NA & NA & NA & NA & NA & NA & NA & NA & NA & NA & NA & NA\\\\\n",
       "\t95 & NA & NA & NA & NA &    & NA & NA & NA & NA & NA & NA & NA & NA & NA & NA & NA & NA & NA & NA & NA & NA & NA & NA & NA & NA\\\\\n",
       "\t96 & NA & NA & NA & NA &    & NA & NA & NA & NA & NA & NA & NA & NA & NA & NA & NA & NA & NA & NA & NA & NA & NA & NA & NA & NA\\\\\n",
       "\t97 & NA & NA & NA & NA & `  & NA & NA & NA & NA & NA & NA & NA & NA & NA & NA & NA & NA & NA & NA & NA & NA & NA & NA & NA & NA\\\\\n",
       "\\end{tabular}\n"
      ],
      "text/markdown": [
       "\n",
       "| <!--/--> | county | year | crmrte | prbarr | prbconv | prbpris | avgsen | polpc | density | taxpc | west | central | urban | pctmin80 | wcon | wtuc | wtrd | wfir | wser | wmfg | wfed | wsta | wloc | mix | pctymle | \n",
       "|---|---|---|---|---|---|\n",
       "| 92 | NA | NA | NA | NA |    | NA | NA | NA | NA | NA | NA | NA | NA | NA | NA | NA | NA | NA | NA | NA | NA | NA | NA | NA | NA | \n",
       "| 93 | NA | NA | NA | NA |    | NA | NA | NA | NA | NA | NA | NA | NA | NA | NA | NA | NA | NA | NA | NA | NA | NA | NA | NA | NA | \n",
       "| 94 | NA | NA | NA | NA |    | NA | NA | NA | NA | NA | NA | NA | NA | NA | NA | NA | NA | NA | NA | NA | NA | NA | NA | NA | NA | \n",
       "| 95 | NA | NA | NA | NA |    | NA | NA | NA | NA | NA | NA | NA | NA | NA | NA | NA | NA | NA | NA | NA | NA | NA | NA | NA | NA | \n",
       "| 96 | NA | NA | NA | NA |    | NA | NA | NA | NA | NA | NA | NA | NA | NA | NA | NA | NA | NA | NA | NA | NA | NA | NA | NA | NA | \n",
       "| 97 | NA | NA | NA | NA | `  | NA | NA | NA | NA | NA | NA | NA | NA | NA | NA | NA | NA | NA | NA | NA | NA | NA | NA | NA | NA | \n",
       "\n",
       "\n"
      ],
      "text/plain": [
       "   county year crmrte prbarr prbconv prbpris avgsen polpc density taxpc west\n",
       "92 NA     NA   NA     NA             NA      NA     NA    NA      NA    NA  \n",
       "93 NA     NA   NA     NA             NA      NA     NA    NA      NA    NA  \n",
       "94 NA     NA   NA     NA             NA      NA     NA    NA      NA    NA  \n",
       "95 NA     NA   NA     NA             NA      NA     NA    NA      NA    NA  \n",
       "96 NA     NA   NA     NA             NA      NA     NA    NA      NA    NA  \n",
       "97 NA     NA   NA     NA     `       NA      NA     NA    NA      NA    NA  \n",
       "   central urban pctmin80 wcon wtuc wtrd wfir wser wmfg wfed wsta wloc mix\n",
       "92 NA      NA    NA       NA   NA   NA   NA   NA   NA   NA   NA   NA   NA \n",
       "93 NA      NA    NA       NA   NA   NA   NA   NA   NA   NA   NA   NA   NA \n",
       "94 NA      NA    NA       NA   NA   NA   NA   NA   NA   NA   NA   NA   NA \n",
       "95 NA      NA    NA       NA   NA   NA   NA   NA   NA   NA   NA   NA   NA \n",
       "96 NA      NA    NA       NA   NA   NA   NA   NA   NA   NA   NA   NA   NA \n",
       "97 NA      NA    NA       NA   NA   NA   NA   NA   NA   NA   NA   NA   NA \n",
       "   pctymle\n",
       "92 NA     \n",
       "93 NA     \n",
       "94 NA     \n",
       "95 NA     \n",
       "96 NA     \n",
       "97 NA     "
      ]
     },
     "metadata": {},
     "output_type": "display_data"
    }
   ],
   "source": [
    "data[!complete.cases(data),]"
   ]
  },
  {
   "cell_type": "markdown",
   "metadata": {},
   "source": [
    "It seems 6 observations have NA values for all the variables. These rows could easily be removed as they are not useful in further analysis."
   ]
  },
  {
   "cell_type": "code",
   "execution_count": 18,
   "metadata": {},
   "outputs": [],
   "source": [
    "#Deleting rows with NA values\n",
    "cdata <- data[!complete.cases(data),]"
   ]
  },
  {
   "cell_type": "markdown",
   "metadata": {},
   "source": [
    "A close look at the probability of conviction variable shows a non-numeric value. "
   ]
  },
  {
   "cell_type": "markdown",
   "metadata": {},
   "source": [
    "# Not needed, the complete cases method removes the \"`\" instance"
   ]
  },
  {
   "cell_type": "code",
   "execution_count": 19,
   "metadata": {},
   "outputs": [],
   "source": [
    "#Remove the non-numeric value\n",
    "cdata$prbconv <- as.numeric(gsub(\"[^0-9.]+\", \"\", cdata$prbconv))"
   ]
  },
  {
   "cell_type": "markdown",
   "metadata": {},
   "source": [
    "# I do not believe we should limit these.  They are ratios, not probabilities.  They are proxies for the probabilities, but they are not probabilities themselves"
   ]
  },
  {
   "cell_type": "code",
   "execution_count": 20,
   "metadata": {},
   "outputs": [
    {
     "data": {
      "text/html": [
       "6"
      ],
      "text/latex": [
       "6"
      ],
      "text/markdown": [
       "6"
      ],
      "text/plain": [
       "[1] 6"
      ]
     },
     "metadata": {},
     "output_type": "display_data"
    },
    {
     "data": {
      "text/html": [
       "6"
      ],
      "text/latex": [
       "6"
      ],
      "text/markdown": [
       "6"
      ],
      "text/plain": [
       "[1] 6"
      ]
     },
     "metadata": {},
     "output_type": "display_data"
    }
   ],
   "source": [
    "#Since the variables prbarr or prbconv are considered as ratio/probability, the values should have a range between 0 and 1\n",
    "nrow(cdata[cdata$prbarr > 1,])\n",
    "nrow(cdata[cdata$prbconv > 1,])"
   ]
  },
  {
   "cell_type": "code",
   "execution_count": 21,
   "metadata": {},
   "outputs": [],
   "source": [
    "#Since the total number of rows is 91, rather than removing those values, we can limit those to 1.\n",
    "cdata[4:5] <- lapply(cdata[4:5], function(x) ifelse( x > 1, 1, x))                    "
   ]
  },
  {
   "cell_type": "markdown",
   "metadata": {},
   "source": [
    "#### Feature Engineering"
   ]
  },
  {
   "cell_type": "markdown",
   "metadata": {},
   "source": [
    "All of the different wage amounts have a decent amount of colinearity because it is representative of how much people get paid. Since the data is taken from one state, the federal, state taxes are other deductions are similar for all the observations"
   ]
  },
  {
   "cell_type": "code",
   "execution_count": 22,
   "metadata": {},
   "outputs": [],
   "source": [
    "#Average wage\n",
    "cdata$wage = (cdata$wcon + cdata$wtuc + cdata$wtrd + cdata$wfir + cdata$wser + cdata$wmfg + cdata$wfed + cdata$wsta + cdata$wloc)/9\n",
    "#Overall tax percent\n",
    "cdata$taxPct = cdata$taxpc/cdata$wage"
   ]
  },
  {
   "cell_type": "markdown",
   "metadata": {},
   "source": [
    "#### Distribution of Data"
   ]
  },
  {
   "cell_type": "markdown",
   "metadata": {},
   "source": [
    "Since the objective is the find out the of reason(s) behind higher crimes, the variable 'crmrte' should be the dependent variable. Dependent variables which are highly correlated with 'crmrte' should be useful to create a robust model. "
   ]
  },
  {
   "cell_type": "code",
   "execution_count": 24,
   "metadata": {},
   "outputs": [
    {
     "data": {
      "text/html": [
       "<ol class=list-inline>\n",
       "\t<li>'county'</li>\n",
       "\t<li>'year'</li>\n",
       "\t<li>'crmrte'</li>\n",
       "\t<li>'prbarr'</li>\n",
       "\t<li>'prbconv'</li>\n",
       "\t<li>'prbpris'</li>\n",
       "\t<li>'avgsen'</li>\n",
       "\t<li>'polpc'</li>\n",
       "\t<li>'density'</li>\n",
       "\t<li>'taxpc'</li>\n",
       "\t<li>'west'</li>\n",
       "\t<li>'central'</li>\n",
       "\t<li>'urban'</li>\n",
       "\t<li>'pctmin80'</li>\n",
       "\t<li>'wcon'</li>\n",
       "\t<li>'wtuc'</li>\n",
       "\t<li>'wtrd'</li>\n",
       "\t<li>'wfir'</li>\n",
       "\t<li>'wser'</li>\n",
       "\t<li>'wmfg'</li>\n",
       "\t<li>'wfed'</li>\n",
       "\t<li>'wsta'</li>\n",
       "\t<li>'wloc'</li>\n",
       "\t<li>'mix'</li>\n",
       "\t<li>'pctymle'</li>\n",
       "\t<li>'wage'</li>\n",
       "\t<li>'taxPct'</li>\n",
       "</ol>\n"
      ],
      "text/latex": [
       "\\begin{enumerate*}\n",
       "\\item 'county'\n",
       "\\item 'year'\n",
       "\\item 'crmrte'\n",
       "\\item 'prbarr'\n",
       "\\item 'prbconv'\n",
       "\\item 'prbpris'\n",
       "\\item 'avgsen'\n",
       "\\item 'polpc'\n",
       "\\item 'density'\n",
       "\\item 'taxpc'\n",
       "\\item 'west'\n",
       "\\item 'central'\n",
       "\\item 'urban'\n",
       "\\item 'pctmin80'\n",
       "\\item 'wcon'\n",
       "\\item 'wtuc'\n",
       "\\item 'wtrd'\n",
       "\\item 'wfir'\n",
       "\\item 'wser'\n",
       "\\item 'wmfg'\n",
       "\\item 'wfed'\n",
       "\\item 'wsta'\n",
       "\\item 'wloc'\n",
       "\\item 'mix'\n",
       "\\item 'pctymle'\n",
       "\\item 'wage'\n",
       "\\item 'taxPct'\n",
       "\\end{enumerate*}\n"
      ],
      "text/markdown": [
       "1. 'county'\n",
       "2. 'year'\n",
       "3. 'crmrte'\n",
       "4. 'prbarr'\n",
       "5. 'prbconv'\n",
       "6. 'prbpris'\n",
       "7. 'avgsen'\n",
       "8. 'polpc'\n",
       "9. 'density'\n",
       "10. 'taxpc'\n",
       "11. 'west'\n",
       "12. 'central'\n",
       "13. 'urban'\n",
       "14. 'pctmin80'\n",
       "15. 'wcon'\n",
       "16. 'wtuc'\n",
       "17. 'wtrd'\n",
       "18. 'wfir'\n",
       "19. 'wser'\n",
       "20. 'wmfg'\n",
       "21. 'wfed'\n",
       "22. 'wsta'\n",
       "23. 'wloc'\n",
       "24. 'mix'\n",
       "25. 'pctymle'\n",
       "26. 'wage'\n",
       "27. 'taxPct'\n",
       "\n",
       "\n"
      ],
      "text/plain": [
       " [1] \"county\"   \"year\"     \"crmrte\"   \"prbarr\"   \"prbconv\"  \"prbpris\" \n",
       " [7] \"avgsen\"   \"polpc\"    \"density\"  \"taxpc\"    \"west\"     \"central\" \n",
       "[13] \"urban\"    \"pctmin80\" \"wcon\"     \"wtuc\"     \"wtrd\"     \"wfir\"    \n",
       "[19] \"wser\"     \"wmfg\"     \"wfed\"     \"wsta\"     \"wloc\"     \"mix\"     \n",
       "[25] \"pctymle\"  \"wage\"     \"taxPct\"  "
      ]
     },
     "metadata": {},
     "output_type": "display_data"
    }
   ],
   "source": [
    "names(cdata)"
   ]
  },
  {
   "cell_type": "markdown",
   "metadata": {},
   "source": [
    "# Why did we use the ordering below instead of the order they are given in?"
   ]
  },
  {
   "cell_type": "code",
   "execution_count": 30,
   "metadata": {},
   "outputs": [
    {
     "name": "stderr",
     "output_type": "stream",
     "text": [
      "ERROR while rich displaying an object: Error in FUN(X[[i]], ...): object 'r' not found\n",
      "\n",
      "Traceback:\n",
      "1. FUN(X[[i]], ...)\n",
      "2. tryCatch(withCallingHandlers({\n",
      " .     rpr <- mime2repr[[mime]](obj)\n",
      " .     if (is.null(rpr)) \n",
      " .         return(NULL)\n",
      " .     prepare_content(is.raw(rpr), rpr)\n",
      " . }, error = error_handler), error = outer_handler)\n",
      "3. tryCatchList(expr, classes, parentenv, handlers)\n",
      "4. tryCatchOne(expr, names, parentenv, handlers[[1L]])\n",
      "5. doTryCatch(return(expr), name, parentenv, handler)\n",
      "6. withCallingHandlers({\n",
      " .     rpr <- mime2repr[[mime]](obj)\n",
      " .     if (is.null(rpr)) \n",
      " .         return(NULL)\n",
      " .     prepare_content(is.raw(rpr), rpr)\n",
      " . }, error = error_handler)\n",
      "7. mime2repr[[mime]](obj)\n",
      "8. repr_text.default(obj)\n",
      "9. paste(capture.output(print(obj)), collapse = \"\\n\")\n",
      "10. capture.output(print(obj))\n",
      "11. evalVis(expr)\n",
      "12. withVisible(eval(expr, pf))\n",
      "13. eval(expr, pf)\n",
      "14. eval(expr, pf)\n",
      "15. print(obj)\n",
      "16. print.ggplot(obj)\n",
      "17. ggplot_build(x)\n",
      "18. ggplot_build.ggplot(x)\n",
      "19. by_layer(function(l, d) l$compute_aesthetics(d, plot))\n",
      "20. f(l = layers[[i]], d = data[[i]])\n",
      "21. l$compute_aesthetics(d, plot)\n",
      "22. f(..., self = self)\n",
      "23. scales_add_defaults(plot$scales, data, aesthetics, plot$plot_env)\n",
      "24. lapply(aesthetics[new_aesthetics], rlang::eval_tidy, data = data)\n",
      "25. FUN(X[[i]], ...)\n"
     ]
    },
    {
     "data": {},
     "metadata": {},
     "output_type": "display_data"
    },
    {
     "data": {
      "image/png": "[encoded data removed]",
      "text/plain": [
       "plot without title"
      ]
     },
     "metadata": {},
     "output_type": "display_data"
    }
   ],
   "source": [
    "# c(\"crmrte\", \"prbarr\", \"prbconv\", \"prbpris\", \"density\", \"taxpc\", \"wcon\", \"wtrd\", \n",
    "#                    \"wfir\", \"wmfg\", \"wfed\", \"wloc\", \"pctymle\", \"taxPct\", \"wage\", \"mix\", \"wser\", \n",
    "#                    \"polpc\", \"avgsen\", \"pctmin80\", \"wsta\", \"wtuc\")\n",
    "smoothing_method = \"glm\"\n",
    "options(repr.plot.width=15, repr.plot.height=15)\n",
    "ggscatmat(cdata[,c('crmrte','prbarr','prbconv','prbpris','avgsen','polpc','density','taxpc','urban','pctmin80','wcon','wtuc','wtrd','wfir','wser','wmfg','wfed','wsta','wloc','mix','pctymle','wage','taxPct')], alpha=0.8) +\n",
    "geom_smooth(method=smoothing_method)"
   ]
  },
  {
   "cell_type": "markdown",
   "metadata": {},
   "source": [
    "#### Variable Selection\n",
    "\n",
    "The variable selection process is based on two consequtive criterias - degree of practical and statistical significance. \n",
    "After taking notes from the local law enforcement, IRS and other legislative authorities, we can narrow the list to fewer key variables, such as \"prbarr\", \"prbconv\", \"density\", \"taxpc\", \"wage\", \"pctymle\", \"polpc\", \"pctmin80\", \"mix\".\n",
    "\n",
    "The chosen variables are in fact part of three different domains:\n",
    "Certainty of punishment - \"prbarr\" and \"prbconv\"\n",
    "Demographic variations - \"density\", \"pctymle\", \"pctmin80\"\n",
    "Financial standing - \"taxpc\", \"wage\"\n",
    "\n",
    "Few variables may not play a useful role in the analysis for the following reasons\n",
    "- The 'county' and 'year' variables can be ignored as those do not vary with the crime rate. \n",
    "- The average sentence days ('avgsen') are determined by a long process of court trials and federally standardized protocols. Criminal activities may not be significantly motivated by the sentencing terms.\n",
    "- County location alone may not be a good factor of crime rate data. Other variables like, \"polpc\" and \"density\" should be closly related with urbun and rural locations. So, any information about \"density\" or \"polpc\" will be diluted as \"density\" has statistical significance.\n",
    "- As previously discussed, all the wage variables are consolidated into one variable, \"wage\", since individual use of those in a model may not contribute much.\n",
    "\n",
    "Statistical significance of these variables are analyzed as part of the model creation ane EDA. Initially, independent variables will be chosen for the OLS regression, if they are significantly correlated with the dependent variable, crime rate."
   ]
  },
  {
   "cell_type": "markdown",
   "metadata": {},
   "source": [
    "#### Distribution"
   ]
  },
  {
   "cell_type": "code",
   "execution_count": 25,
   "metadata": {},
   "outputs": [
    {
     "data": {},
     "metadata": {},
     "output_type": "display_data"
    },
    {
     "data": {
      "image/png": "[encoded data removed]",
      "text/plain": [
       "plot without title"
      ]
     },
     "metadata": {},
     "output_type": "display_data"
    }
   ],
   "source": [
    "c <- ggplot(data=cdata, aes(crmrte)) +\n",
    "    geom_histogram(bins=10, fill=\"red\", color=\"black\") + \n",
    "    ggtitle(paste(\"Crime Rate\"))\n",
    "\n",
    "cn <- ggplot(data=cdata, aes(prbconv)) +\n",
    "    geom_histogram(bins=10, fill=\"blue\", color=\"black\") + \n",
    "    ggtitle(paste(\"Pro. Conv\"))\n",
    "\n",
    "dn <- ggplot(data=cdata, aes(density)) +\n",
    "    geom_histogram(bins=7, fill=\"blue\", color=\"black\") + \n",
    "    ggtitle(paste(\"Pro. Density\"))\n",
    "\n",
    "ar <- ggplot(data=cdata, aes(prbarr)) +\n",
    "    geom_histogram(bins=7, fill=\"blue\", color=\"black\") + \n",
    "    ggtitle(paste(\"Pro. Arrest\"))\n",
    "\n",
    "tp <- ggplot(data=cdata, aes(taxpc)) +\n",
    "    geom_histogram(bins=7, fill=\"blue\", color=\"black\") + \n",
    "    ggtitle(paste(\"Tax Rev\"))\n",
    "\n",
    "wc <- ggplot(data=cdata, aes(wage)) +\n",
    "    geom_histogram(bins=7, fill=\"blue\", color=\"black\") + \n",
    "    ggtitle(paste(\"Wage\"))\n",
    "\n",
    "pct <- ggplot(data=cdata, aes(pctymle)) +\n",
    "    geom_histogram(bins=7, fill=\"blue\", color=\"black\") + \n",
    "    ggtitle(paste(\"Perct Y Male\"))\n",
    "\n",
    "ggarrange(c, cn, dn, ar,tp, wc,pct,\n",
    "          ncol = 3, nrow = 3)"
   ]
  },
  {
   "cell_type": "markdown",
   "metadata": {},
   "source": [
    "Although few of the distributions are skewed, taking log values did not improve any further. So, no transformation necessary."
   ]
  },
  {
   "cell_type": "markdown",
   "metadata": {},
   "source": [
    "From the Appendix - A, it is clear that applying different forms of data transformations (natural log, square, square root) did not make correlational improvements with the crime rate variable."
   ]
  },
  {
   "cell_type": "markdown",
   "metadata": {},
   "source": [
    "### Model Creation"
   ]
  },
  {
   "cell_type": "markdown",
   "metadata": {},
   "source": [
    "#### Model 1 - Simple Linear Regression"
   ]
  },
  {
   "cell_type": "code",
   "execution_count": 31,
   "metadata": {},
   "outputs": [
    {
     "data": {
      "text/plain": [
       "\n",
       "Call:\n",
       "lm(formula = crmrte ~ prbarr + prbconv + density + taxpc + wage + \n",
       "    pctymle, data = cdata)\n",
       "\n",
       "Residuals:\n",
       "      Min        1Q    Median        3Q       Max \n",
       "-0.023802 -0.006283 -0.001550  0.005532  0.036629 \n",
       "\n",
       "Coefficients:\n",
       "              Estimate Std. Error t value Pr(>|t|)    \n",
       "(Intercept)  1.537e-02  1.346e-02   1.141  0.25692    \n",
       "prbarr      -2.878e-02  9.461e-03  -3.042  0.00313 ** \n",
       "prbconv     -1.791e-02  5.417e-03  -3.306  0.00139 ** \n",
       "density      6.265e-03  1.011e-03   6.199 2.03e-08 ***\n",
       "taxpc        3.251e-04  9.365e-05   3.472  0.00082 ***\n",
       "wage         7.989e-06  3.556e-05   0.225  0.82277    \n",
       "pctymle      1.388e-01  5.118e-02   2.712  0.00810 ** \n",
       "---\n",
       "Signif. codes:  0 '***' 0.001 '**' 0.01 '*' 0.05 '.' 0.1 ' ' 1\n",
       "\n",
       "Residual standard error: 0.01065 on 84 degrees of freedom\n",
       "Multiple R-squared:  0.7007,\tAdjusted R-squared:  0.6793 \n",
       "F-statistic: 32.77 on 6 and 84 DF,  p-value: < 2.2e-16\n"
      ]
     },
     "metadata": {},
     "output_type": "display_data"
    },
    {
     "data": {
      "image/png": "[encoded data removed]",
      "text/plain": [
       "Plot with title \"\""
      ]
     },
     "metadata": {},
     "output_type": "display_data"
    },
    {
     "data": {
      "image/png": "[encoded data removed]",
      "text/plain": [
       "Plot with title \"\""
      ]
     },
     "metadata": {},
     "output_type": "display_data"
    }
   ],
   "source": [
    "options(repr.plot.width=10, repr.plot.height=5)\n",
    "model1 <- lm(crmrte ~  prbarr + prbconv + density + taxpc + wage + pctymle, data = cdata)\n",
    "summary(model1)\n",
    "plot(model1, which = 1)\n",
    "plot(model1, which = 5)"
   ]
  },
  {
   "cell_type": "code",
   "execution_count": 39,
   "metadata": {},
   "outputs": [
    {
     "data": {
      "text/html": [
       "<span style=white-space:pre-wrap>'AIC Score:  -559.671140806715'</span>"
      ],
      "text/latex": [
       "'AIC Score:  -559.671140806715'"
      ],
      "text/markdown": [
       "<span style=white-space:pre-wrap>'AIC Score:  -559.671140806715'</span>"
      ],
      "text/plain": [
       "[1] \"AIC Score:  -559.671140806715\""
      ]
     },
     "metadata": {},
     "output_type": "display_data"
    },
    {
     "data": {
      "text/html": [
       "'Covariation of coefficients - '"
      ],
      "text/latex": [
       "'Covariation of coefficients - '"
      ],
      "text/markdown": [
       "'Covariation of coefficients - '"
      ],
      "text/plain": [
       "[1] \"Covariation of coefficients - \""
      ]
     },
     "metadata": {},
     "output_type": "display_data"
    },
    {
     "data": {
      "text/html": [
       "<dl class=dl-horizontal>\n",
       "\t<dt>(Intercept)</dt>\n",
       "\t\t<dd>0.000181298485851146</dd>\n",
       "\t<dt>prbarr</dt>\n",
       "\t\t<dd>8.95194323255838e-05</dd>\n",
       "\t<dt>prbconv</dt>\n",
       "\t\t<dd>2.93406893979447e-05</dd>\n",
       "\t<dt>density</dt>\n",
       "\t\t<dd>1.02130520949574e-06</dd>\n",
       "\t<dt>taxpc</dt>\n",
       "\t\t<dd>8.77020203640525e-09</dd>\n",
       "\t<dt>wage</dt>\n",
       "\t\t<dd>1.2641988776503e-09</dd>\n",
       "\t<dt>pctymle</dt>\n",
       "\t\t<dd>0.00261977075620693</dd>\n",
       "</dl>\n"
      ],
      "text/latex": [
       "\\begin{description*}\n",
       "\\item[(Intercept)] 0.000181298485851146\n",
       "\\item[prbarr] 8.95194323255838e-05\n",
       "\\item[prbconv] 2.93406893979447e-05\n",
       "\\item[density] 1.02130520949574e-06\n",
       "\\item[taxpc] 8.77020203640525e-09\n",
       "\\item[wage] 1.2641988776503e-09\n",
       "\\item[pctymle] 0.00261977075620693\n",
       "\\end{description*}\n"
      ],
      "text/markdown": [
       "(Intercept)\n",
       ":   0.000181298485851146prbarr\n",
       ":   8.95194323255838e-05prbconv\n",
       ":   2.93406893979447e-05density\n",
       ":   1.02130520949574e-06taxpc\n",
       ":   8.77020203640525e-09wage\n",
       ":   1.2641988776503e-09pctymle\n",
       ":   0.00261977075620693\n",
       "\n"
      ],
      "text/plain": [
       " (Intercept)       prbarr      prbconv      density        taxpc         wage \n",
       "1.812985e-04 8.951943e-05 2.934069e-05 1.021305e-06 8.770202e-09 1.264199e-09 \n",
       "     pctymle \n",
       "2.619771e-03 "
      ]
     },
     "metadata": {},
     "output_type": "display_data"
    },
    {
     "data": {
      "text/html": [
       "<span style=white-space:pre-wrap>'Mean residuals:  2.85166207566554e-19'</span>"
      ],
      "text/latex": [
       "'Mean residuals:  2.85166207566554e-19'"
      ],
      "text/markdown": [
       "<span style=white-space:pre-wrap>'Mean residuals:  2.85166207566554e-19'</span>"
      ],
      "text/plain": [
       "[1] \"Mean residuals:  2.85166207566554e-19\""
      ]
     },
     "metadata": {},
     "output_type": "display_data"
    }
   ],
   "source": [
    "paste(\"AIC Score: \", AIC(model1))\n",
    "paste(\"Covariation of coefficients - \")\n",
    "diag(vcov(model1))\n",
    "paste(\"Mean residuals: \", mean(model1$residuals))"
   ]
  },
  {
   "cell_type": "markdown",
   "metadata": {},
   "source": [
    "#### Model 1 - Interpretation \n",
    "\n",
    "Statistical Figures\n",
    "\n",
    "1. Low Residuals \n",
    "    Median: -0.002907\n",
    "    Mean: 2.85166207566554e-19\n",
    "2. Low Coefficients and low variation of coeffcients\n",
    "3. Low RSE: 0.01065 \n",
    "4. Significantly high R-squared/Adjusted R-squared values -  0.7007, 0.6793\n",
    "5. Low AIC score: -559.671140806715\n",
    "7. Couple of values more than 1 cook's distance\n",
    "\n",
    "Quality and Measurement of OLS Assumptions\n",
    "\n",
    "- From the Fitted and Residual Plot, the spline curve shows a good alignment with the fitted line. It proves linear relation between dependent and independent variables. In addition, the plot does show biasness as the data points are not random.\n",
    "- The model efficiency is high since the coeffcient variations or robust standard error values are low. It also means the estimators are consistent around the regression line.\n",
    "- Except 'wage', all other variables are statistically significant with at least two stars.\n",
    "- High Adjusted R-squared value implies goodness of fit.\n",
    "- Two observations can be considered as outliers and those may influnce the estimation."
   ]
  },
  {
   "cell_type": "markdown",
   "metadata": {},
   "source": [
    "#### Model 2 - Multiple Independent Variables"
   ]
  },
  {
   "cell_type": "markdown",
   "metadata": {},
   "source": [
    "Adjustments after Model1 results - \n",
    "1. Removing two outliers \n",
    "2. Removing statistically insignificant variable, wage. \n",
    "3. Introducing new variables which have practical significance. <br>\n",
    "Note - These variables have weak correlation with other independent variables. So, it will violate the Multicollinearity."
   ]
  },
  {
   "cell_type": "markdown",
   "metadata": {},
   "source": [
    "##### Removing outliers"
   ]
  },
  {
   "cell_type": "code",
   "execution_count": 40,
   "metadata": {},
   "outputs": [
    {
     "data": {
      "image/png": "[encoded data removed]",
      "text/plain": [
       "Plot with title \"Influential Obervations by Cooks distance\""
      ]
     },
     "metadata": {},
     "output_type": "display_data"
    }
   ],
   "source": [
    "#Cooks distance measurement\n",
    "cooksd <- cooks.distance(model1)\n",
    "plot(cooksd, pch=\"*\", cex=2, main=\"Influential Obervations by Cooks distance\")\n",
    "abline(h = 5*mean(cooksd, na.rm=T), col=\"red\")"
   ]
  },
  {
   "cell_type": "code",
   "execution_count": 41,
   "metadata": {},
   "outputs": [
    {
     "data": {
      "text/html": [
       "<dl class=dl-horizontal>\n",
       "\t<dt>25</dt>\n",
       "\t\t<dd>1.12970455377139</dd>\n",
       "\t<dt>51</dt>\n",
       "\t\t<dd>0.345475688458824</dd>\n",
       "</dl>\n"
      ],
      "text/latex": [
       "\\begin{description*}\n",
       "\\item[25] 1.12970455377139\n",
       "\\item[51] 0.345475688458824\n",
       "\\end{description*}\n"
      ],
      "text/markdown": [
       "25\n",
       ":   1.1297045537713951\n",
       ":   0.345475688458824\n",
       "\n"
      ],
      "text/plain": [
       "       25        51 \n",
       "1.1297046 0.3454757 "
      ]
     },
     "metadata": {},
     "output_type": "display_data"
    }
   ],
   "source": [
    "#Influential Outliers\n",
    "influential <- as.numeric(names(cooksd)[(cooksd > 5*mean(cooksd, na.rm=T))])\n",
    "cooksd[influential]"
   ]
  },
  {
   "cell_type": "code",
   "execution_count": 42,
   "metadata": {},
   "outputs": [],
   "source": [
    "#Remove outliers\n",
    "ctdata <- cdata[(cdata$county != cdata[influential[1],]$county) & (cdata$county != cdata[influential[2],]$county),]"
   ]
  },
  {
   "cell_type": "code",
   "execution_count": 43,
   "metadata": {},
   "outputs": [
    {
     "data": {
      "text/plain": [
       "\n",
       "Call:\n",
       "lm(formula = crmrte ~ prbarr + prbconv + density + taxpc + pctymle + \n",
       "    polpc + pctmin80 + mix, data = ctdata)\n",
       "\n",
       "Residuals:\n",
       "       Min         1Q     Median         3Q        Max \n",
       "-0.0199194 -0.0042765 -0.0002695  0.0047290  0.0225797 \n",
       "\n",
       "Coefficients:\n",
       "              Estimate Std. Error t value Pr(>|t|)    \n",
       "(Intercept)  2.963e-02  7.880e-03   3.761 0.000321 ***\n",
       "prbarr      -4.561e-02  1.095e-02  -4.166 7.77e-05 ***\n",
       "prbconv     -2.358e-02  4.683e-03  -5.036 2.88e-06 ***\n",
       "density      6.877e-03  7.772e-04   8.848 1.75e-13 ***\n",
       "taxpc       -4.865e-05  1.097e-04  -0.443 0.658684    \n",
       "pctymle      8.721e-02  4.120e-02   2.117 0.037402 *  \n",
       "polpc        3.460e+00  1.911e+00   1.810 0.073995 .  \n",
       "pctmin80     3.624e-04  5.411e-05   6.698 2.68e-09 ***\n",
       "mix         -1.420e-02  1.370e-02  -1.036 0.303230    \n",
       "---\n",
       "Signif. codes:  0 '***' 0.001 '**' 0.01 '*' 0.05 '.' 0.1 ' ' 1\n",
       "\n",
       "Residual standard error: 0.008235 on 80 degrees of freedom\n",
       "Multiple R-squared:  0.8128,\tAdjusted R-squared:  0.7941 \n",
       "F-statistic: 43.43 on 8 and 80 DF,  p-value: < 2.2e-16\n"
      ]
     },
     "metadata": {},
     "output_type": "display_data"
    },
    {
     "data": {
      "image/png": "[encoded data removed]",
      "text/plain": [
       "Plot with title \"\""
      ]
     },
     "metadata": {},
     "output_type": "display_data"
    },
    {
     "data": {
      "image/png": "[encoded data removed]",
      "text/plain": [
       "Plot with title \"\""
      ]
     },
     "metadata": {},
     "output_type": "display_data"
    }
   ],
   "source": [
    "#Create model2\n",
    "model2 <- lm(crmrte ~ prbarr + prbconv + density + taxpc + pctymle + polpc + pctmin80 + mix, data = ctdata)\n",
    "summary(model2)\n",
    "plot(model2, which = 1)\n",
    "plot(model2, which = 5)"
   ]
  },
  {
   "cell_type": "code",
   "execution_count": 44,
   "metadata": {},
   "outputs": [
    {
     "data": {
      "text/html": [
       "<span style=white-space:pre-wrap>'AIC Score:  -591.204239814494'</span>"
      ],
      "text/latex": [
       "'AIC Score:  -591.204239814494'"
      ],
      "text/markdown": [
       "<span style=white-space:pre-wrap>'AIC Score:  -591.204239814494'</span>"
      ],
      "text/plain": [
       "[1] \"AIC Score:  -591.204239814494\""
      ]
     },
     "metadata": {},
     "output_type": "display_data"
    },
    {
     "data": {
      "text/html": [
       "'Covariation of coefficients - '"
      ],
      "text/latex": [
       "'Covariation of coefficients - '"
      ],
      "text/markdown": [
       "'Covariation of coefficients - '"
      ],
      "text/plain": [
       "[1] \"Covariation of coefficients - \""
      ]
     },
     "metadata": {},
     "output_type": "display_data"
    },
    {
     "data": {
      "text/html": [
       "<dl class=dl-horizontal>\n",
       "\t<dt>(Intercept)</dt>\n",
       "\t\t<dd>6.2090532096702e-05</dd>\n",
       "\t<dt>prbarr</dt>\n",
       "\t\t<dd>0.000119833888655239</dd>\n",
       "\t<dt>prbconv</dt>\n",
       "\t\t<dd>2.19276458271852e-05</dd>\n",
       "\t<dt>density</dt>\n",
       "\t\t<dd>6.04056753856239e-07</dd>\n",
       "\t<dt>taxpc</dt>\n",
       "\t\t<dd>1.20395770973088e-08</dd>\n",
       "\t<dt>pctymle</dt>\n",
       "\t\t<dd>0.00169781221258409</dd>\n",
       "\t<dt>polpc</dt>\n",
       "\t\t<dd>3.65378752058671</dd>\n",
       "\t<dt>pctmin80</dt>\n",
       "\t\t<dd>2.92775143696303e-09</dd>\n",
       "\t<dt>mix</dt>\n",
       "\t\t<dd>0.000187718567626709</dd>\n",
       "</dl>\n"
      ],
      "text/latex": [
       "\\begin{description*}\n",
       "\\item[(Intercept)] 6.2090532096702e-05\n",
       "\\item[prbarr] 0.000119833888655239\n",
       "\\item[prbconv] 2.19276458271852e-05\n",
       "\\item[density] 6.04056753856239e-07\n",
       "\\item[taxpc] 1.20395770973088e-08\n",
       "\\item[pctymle] 0.00169781221258409\n",
       "\\item[polpc] 3.65378752058671\n",
       "\\item[pctmin80] 2.92775143696303e-09\n",
       "\\item[mix] 0.000187718567626709\n",
       "\\end{description*}\n"
      ],
      "text/markdown": [
       "(Intercept)\n",
       ":   6.2090532096702e-05prbarr\n",
       ":   0.000119833888655239prbconv\n",
       ":   2.19276458271852e-05density\n",
       ":   6.04056753856239e-07taxpc\n",
       ":   1.20395770973088e-08pctymle\n",
       ":   0.00169781221258409polpc\n",
       ":   3.65378752058671pctmin80\n",
       ":   2.92775143696303e-09mix\n",
       ":   0.000187718567626709\n",
       "\n"
      ],
      "text/plain": [
       " (Intercept)       prbarr      prbconv      density        taxpc      pctymle \n",
       "6.209053e-05 1.198339e-04 2.192765e-05 6.040568e-07 1.203958e-08 1.697812e-03 \n",
       "       polpc     pctmin80          mix \n",
       "3.653788e+00 2.927751e-09 1.877186e-04 "
      ]
     },
     "metadata": {},
     "output_type": "display_data"
    },
    {
     "data": {
      "text/html": [
       "<span style=white-space:pre-wrap>'Mean residuals:  -1.68519108301068e-19'</span>"
      ],
      "text/latex": [
       "'Mean residuals:  -1.68519108301068e-19'"
      ],
      "text/markdown": [
       "<span style=white-space:pre-wrap>'Mean residuals:  -1.68519108301068e-19'</span>"
      ],
      "text/plain": [
       "[1] \"Mean residuals:  -1.68519108301068e-19\""
      ]
     },
     "metadata": {},
     "output_type": "display_data"
    }
   ],
   "source": [
    "paste(\"AIC Score: \", AIC(model2))\n",
    "paste(\"Covariation of coefficients - \")\n",
    "diag(vcov(model2))\n",
    "paste(\"Mean residuals: \", mean(model2$residuals))"
   ]
  },
  {
   "cell_type": "markdown",
   "metadata": {},
   "source": [
    "#### Model 2 - Interpretation \n",
    "\n",
    "1. Low Residuals - -0.001550 (Median) \n",
    "2. Low Coefficients for all the variables\n",
    "3. Low RSE - 0.01065 (**Lower than Model 1**) \n",
    "4. Significantly high R-squared/Adjusted R-squared values -  0.7007, 0.6793 (**Significantly higher than Model 1**)\n",
    "5. Low AIC score - -559.671140806715 (**Lower than Model 1**) \n",
    "6. Low model variation \n",
    "7. 1 data point is more than 1 Cook's distance\n",
    "\n",
    "Outcome - Model 2 is more robust than Model 1"
   ]
  },
  {
   "cell_type": "markdown",
   "metadata": {},
   "source": [
    "#### Model 3 - Optimization"
   ]
  },
  {
   "cell_type": "markdown",
   "metadata": {},
   "source": [
    "**Omitting Variables Bias**\n",
    "\n",
    "The dependent variables influence each other and those positive or negative bias is captured by the error term. Now, assumption of the regressor states that the error term should not have significant correlation with the dependent variable.\n",
    "\n",
    "**If the following condition satifies, it is safe to omit variable**\n",
    "\n",
    "The condition E(ui|Xi)=0E(ui|Xi)=0 <br>\n",
    "X is **Not** correlated with the omitted variable. <br> \n",
    "The omitted variable is **Not** a determinant of the dependent variable Y. "
   ]
  },
  {
   "cell_type": "markdown",
   "metadata": {},
   "source": [
    "### ================== <br>\n",
    "#### TODO - Tej, please explain why these combination of variables are creating robust model. If possible, include your steps in the Appindex - B\n",
    "### ================== <br>\n",
    "\n",
    "In accordance with the above condition, the following variables are generating best fit model."
   ]
  },
  {
   "cell_type": "code",
   "execution_count": 15,
   "metadata": {},
   "outputs": [
    {
     "data": {
      "text/plain": [
       "\n",
       "Call:\n",
       "lm(formula = crmrte ~ density + pctymle + prbconv + prbarr + \n",
       "    polpc + pctmin80, data = cdata)\n",
       "\n",
       "Coefficients:\n",
       "(Intercept)      density      pctymle      prbconv       prbarr        polpc  \n",
       "  0.0320026    0.0058418    0.0660636   -0.0268677   -0.0597460    5.9994153  \n",
       "   pctmin80  \n",
       "  0.0003344  \n"
      ]
     },
     "metadata": {},
     "output_type": "display_data"
    },
    {
     "data": {
      "text/plain": [
       "\n",
       "Call:\n",
       "lm(formula = crmrte ~ density + pctymle + prbconv + prbarr + \n",
       "    polpc + pctmin80, data = cdata)\n",
       "\n",
       "Residuals:\n",
       "      Min        1Q    Median        3Q       Max \n",
       "-0.019706 -0.005265 -0.000271  0.005127  0.031773 \n",
       "\n",
       "Coefficients:\n",
       "              Estimate Std. Error t value Pr(>|t|)    \n",
       "(Intercept)  3.200e-02  6.315e-03   5.068 2.36e-06 ***\n",
       "density      5.842e-03  7.533e-04   7.755 1.87e-11 ***\n",
       "pctymle      6.606e-02  4.331e-02   1.525    0.131    \n",
       "prbconv     -2.687e-02  4.503e-03  -5.966 5.57e-08 ***\n",
       "prbarr      -5.975e-02  9.417e-03  -6.345 1.08e-08 ***\n",
       "polpc        5.999e+00  1.175e+00   5.105 2.03e-06 ***\n",
       "pctmin80     3.344e-04  5.739e-05   5.826 1.01e-07 ***\n",
       "---\n",
       "Signif. codes:  0 '***' 0.001 '**' 0.01 '*' 0.05 '.' 0.1 ' ' 1\n",
       "\n",
       "Residual standard error: 0.009037 on 84 degrees of freedom\n",
       "Multiple R-squared:  0.7846,\tAdjusted R-squared:  0.7692 \n",
       "F-statistic:    51 on 6 and 84 DF,  p-value: < 2.2e-16\n"
      ]
     },
     "metadata": {},
     "output_type": "display_data"
    },
    {
     "data": {
      "text/html": [
       "-589.614545797105"
      ],
      "text/latex": [
       "-589.614545797105"
      ],
      "text/markdown": [
       "-589.614545797105"
      ],
      "text/plain": [
       "[1] -589.6145"
      ]
     },
     "metadata": {},
     "output_type": "display_data"
    },
    {
     "data": {
      "text/html": [
       "<dl class=dl-horizontal>\n",
       "\t<dt>(Intercept)</dt>\n",
       "\t\t<dd>3.98746507848716e-05</dd>\n",
       "\t<dt>density</dt>\n",
       "\t\t<dd>5.67462904762691e-07</dd>\n",
       "\t<dt>pctymle</dt>\n",
       "\t\t<dd>0.00187553998159449</dd>\n",
       "\t<dt>prbconv</dt>\n",
       "\t\t<dd>2.02794829375624e-05</dd>\n",
       "\t<dt>prbarr</dt>\n",
       "\t\t<dd>8.86732882079928e-05</dd>\n",
       "\t<dt>polpc</dt>\n",
       "\t\t<dd>1.38109547182464</dd>\n",
       "\t<dt>pctmin80</dt>\n",
       "\t\t<dd>3.29336660135383e-09</dd>\n",
       "</dl>\n"
      ],
      "text/latex": [
       "\\begin{description*}\n",
       "\\item[(Intercept)] 3.98746507848716e-05\n",
       "\\item[density] 5.67462904762691e-07\n",
       "\\item[pctymle] 0.00187553998159449\n",
       "\\item[prbconv] 2.02794829375624e-05\n",
       "\\item[prbarr] 8.86732882079928e-05\n",
       "\\item[polpc] 1.38109547182464\n",
       "\\item[pctmin80] 3.29336660135383e-09\n",
       "\\end{description*}\n"
      ],
      "text/markdown": [
       "(Intercept)\n",
       ":   3.98746507848716e-05density\n",
       ":   5.67462904762691e-07pctymle\n",
       ":   0.00187553998159449prbconv\n",
       ":   2.02794829375624e-05prbarr\n",
       ":   8.86732882079928e-05polpc\n",
       ":   1.38109547182464pctmin80\n",
       ":   3.29336660135383e-09\n",
       "\n"
      ],
      "text/plain": [
       " (Intercept)      density      pctymle      prbconv       prbarr        polpc \n",
       "3.987465e-05 5.674629e-07 1.875540e-03 2.027948e-05 8.867329e-05 1.381095e+00 \n",
       "    pctmin80 \n",
       "3.293367e-09 "
      ]
     },
     "metadata": {},
     "output_type": "display_data"
    },
    {
     "data": {
      "image/png": "[encoded data removed]",
      "text/plain": [
       "Plot with title \"\""
      ]
     },
     "metadata": {},
     "output_type": "display_data"
    }
   ],
   "source": [
    "(model3 <- lm(crmrte ~ density + pctymle + prbconv + prbarr + polpc + pctmin80, data = cdata))\n",
    "summary(model3)\n",
    "AIC(model3)\n",
    "diag(vcov(model3))\n",
    "options(repr.plot.width=10, repr.plot.height=5)\n",
    "plot(model3, which = 5)"
   ]
  },
  {
   "cell_type": "markdown",
   "metadata": {},
   "source": [
    "#### Model 3 - Interpretation \n",
    "\n",
    "1. Very Low Residuals - -0.000271 (Median) \n",
    "2. Compare to Model1/Model2 Higher Coefficients for all the variables \n",
    "3. Very Low RSE - 0.009037 (**Lower than Model 1 and Model 2**) \n",
    "4. Significantly high R-squared/Adjusted R-squared values -  0.7846, 0.7692  (**Significantly higher than Model 1 and Model 2**)\n",
    "5. Low AIC score - -589.614545797105 (**Lower than Model 1 and Model 2**) \n",
    "6. Very Low model variation \n",
    "7. No data point is more than 1 Cook's distance\n",
    "\n",
    "Outcome - Model 3 is better than Model 1 and Model 2"
   ]
  },
  {
   "cell_type": "code",
   "execution_count": 16,
   "metadata": {},
   "outputs": [
    {
     "name": "stdout",
     "output_type": "stream",
     "text": [
      "\n",
      "Linear Models of Crime Rates\n",
      "==================================\n",
      "              Dependent variable: \n",
      "             ---------------------\n",
      "                    crmrte        \n",
      "              (1)     (2)    (3)  \n",
      "----------------------------------\n",
      "density      0.009   0.006  0.006 \n",
      "                                  \n",
      "pctymle              0.139  0.066 \n",
      "                                  \n",
      "prbconv             -0.018  -0.027\n",
      "                                  \n",
      "prbarr              -0.029  -0.060\n",
      "                                  \n",
      "taxpc               0.0003        \n",
      "                                  \n",
      "wage                0.00001       \n",
      "                                  \n",
      "polpc                       5.999 \n",
      "                                  \n",
      "pctmin80                    0.0003\n",
      "                                  \n",
      "Constant     0.020   0.015  0.032 \n",
      "                                  \n",
      "----------------------------------\n",
      "Observations   91     91      91  \n",
      "R2           0.531   0.701  0.785 \n",
      "Adjusted R2  0.526   0.679  0.769 \n",
      "==================================\n"
     ]
    }
   ],
   "source": [
    "# Comparing multiple models\n",
    "stargazer(model1, model2, model3, type = \"text\", \n",
    "          report = \"vc\", # Don't report errors, since we haven't covered them\n",
    "          title = \"Linear Models of Crime Rates\",\n",
    "          keep.stat = c(\"rsq\", \"adj.rsq\", \"aic\", \"n\"),\n",
    "          omit.table.layout = \"n\") # Omit more output related to errors"
   ]
  },
  {
   "cell_type": "markdown",
   "metadata": {},
   "source": [
    "### Appendix - A\n",
    "Compare Corr for Different Transformation with Crime Rate"
   ]
  },
  {
   "cell_type": "code",
   "execution_count": 28,
   "metadata": {},
   "outputs": [],
   "source": [
    "getLogTran <- function(df, cols, tranType, tranTypeDep){\n",
    "    corList <- list()\n",
    "    \n",
    "    for(coln in cols){\n",
    "               \n",
    "        if(tranType == ''){\n",
    "          corList <- append(corList, cor(df[[coln]], tranVar(df$crmrte, tranTypeDep)))   \n",
    "            \n",
    "        }else{\n",
    "            \n",
    "          newColN <- paste(coln, tranType, sep=\"_\")\n",
    "          df[[newColN]] <- tranVar(df[[coln]], tranType)    \n",
    "          corList <- append(corList, cor(df[[newColN]], tranVar(df$crmrte, tranTypeDep)))              \n",
    "      }        \n",
    "        \n",
    "    }\n",
    "    \n",
    "    return (corList)\n",
    "}\n",
    "    \n",
    "tranVar <- function(var1, tranType){\n",
    "    if(tranType == 'lg'){\n",
    "        return (log(var1))\n",
    "    } else if(tranType == 'sq'){\n",
    "        return (var1^2)\n",
    "    } else if(tranType == 'sqt'){\n",
    "        return (sqrt(var1))\n",
    "    } else {\n",
    "        return (var1)\n",
    "    }\n",
    "}"
   ]
  },
  {
   "cell_type": "code",
   "execution_count": 29,
   "metadata": {},
   "outputs": [
    {
     "name": "stdout",
     "output_type": "stream",
     "text": [
      "[1] \"------------------Corr with Crime Rate. No trans of crmrte---------------------\"\n"
     ]
    },
    {
     "data": {
      "text/html": [
       "<table>\n",
       "<thead><tr><th scope=col>var</th><th scope=col>lg</th><th scope=col>sq</th><th scope=col>sqt</th><th scope=col>none</th></tr></thead>\n",
       "<tbody>\n",
       "\t<tr><td>crmrte </td><td>NA     </td><td>NA     </td><td>NA     </td><td>NA     </td></tr>\n",
       "\t<tr><td>prbarr </td><td>NA     </td><td>NA     </td><td>NA     </td><td>NA     </td></tr>\n",
       "\t<tr><td>prbconv</td><td>NA     </td><td>NA     </td><td>NA     </td><td>NA     </td></tr>\n",
       "\t<tr><td>density</td><td>NA     </td><td>NA     </td><td>NA     </td><td>NA     </td></tr>\n",
       "\t<tr><td>taxpc  </td><td>NA     </td><td>NA     </td><td>NA     </td><td>NA     </td></tr>\n",
       "\t<tr><td>wage   </td><td>NA     </td><td>NA     </td><td>NA     </td><td>NA     </td></tr>\n",
       "\t<tr><td>pctymle</td><td>NA     </td><td>NA     </td><td>NA     </td><td>NA     </td></tr>\n",
       "</tbody>\n",
       "</table>\n"
      ],
      "text/latex": [
       "\\begin{tabular}{r|lllll}\n",
       " var & lg & sq & sqt & none\\\\\n",
       "\\hline\n",
       "\t crmrte  & NA      & NA      & NA      & NA     \\\\\n",
       "\t prbarr  & NA      & NA      & NA      & NA     \\\\\n",
       "\t prbconv & NA      & NA      & NA      & NA     \\\\\n",
       "\t density & NA      & NA      & NA      & NA     \\\\\n",
       "\t taxpc   & NA      & NA      & NA      & NA     \\\\\n",
       "\t wage    & NA      & NA      & NA      & NA     \\\\\n",
       "\t pctymle & NA      & NA      & NA      & NA     \\\\\n",
       "\\end{tabular}\n"
      ],
      "text/markdown": [
       "\n",
       "var | lg | sq | sqt | none | \n",
       "|---|---|---|---|---|---|---|\n",
       "| crmrte  | NA      | NA      | NA      | NA      | \n",
       "| prbarr  | NA      | NA      | NA      | NA      | \n",
       "| prbconv | NA      | NA      | NA      | NA      | \n",
       "| density | NA      | NA      | NA      | NA      | \n",
       "| taxpc   | NA      | NA      | NA      | NA      | \n",
       "| wage    | NA      | NA      | NA      | NA      | \n",
       "| pctymle | NA      | NA      | NA      | NA      | \n",
       "\n",
       "\n"
      ],
      "text/plain": [
       "  var     lg sq sqt none\n",
       "1 crmrte  NA NA NA  NA  \n",
       "2 prbarr  NA NA NA  NA  \n",
       "3 prbconv NA NA NA  NA  \n",
       "4 density NA NA NA  NA  \n",
       "5 taxpc   NA NA NA  NA  \n",
       "6 wage    NA NA NA  NA  \n",
       "7 pctymle NA NA NA  NA  "
      ]
     },
     "metadata": {},
     "output_type": "display_data"
    },
    {
     "name": "stdout",
     "output_type": "stream",
     "text": [
      "[1] \"------------------Corr with Crime Rate. Log trans of crmrte---------------------\"\n"
     ]
    },
    {
     "data": {
      "text/html": [
       "<table>\n",
       "<thead><tr><th scope=col>var</th><th scope=col>lg</th><th scope=col>sq</th><th scope=col>sqt</th><th scope=col>none</th></tr></thead>\n",
       "<tbody>\n",
       "\t<tr><td>crmrte </td><td>NA     </td><td>NA     </td><td>NA     </td><td>NA     </td></tr>\n",
       "\t<tr><td>prbarr </td><td>NA     </td><td>NA     </td><td>NA     </td><td>NA     </td></tr>\n",
       "\t<tr><td>prbconv</td><td>NA     </td><td>NA     </td><td>NA     </td><td>NA     </td></tr>\n",
       "\t<tr><td>density</td><td>NA     </td><td>NA     </td><td>NA     </td><td>NA     </td></tr>\n",
       "\t<tr><td>taxpc  </td><td>NA     </td><td>NA     </td><td>NA     </td><td>NA     </td></tr>\n",
       "\t<tr><td>wage   </td><td>NA     </td><td>NA     </td><td>NA     </td><td>NA     </td></tr>\n",
       "\t<tr><td>pctymle</td><td>NA     </td><td>NA     </td><td>NA     </td><td>NA     </td></tr>\n",
       "</tbody>\n",
       "</table>\n"
      ],
      "text/latex": [
       "\\begin{tabular}{r|lllll}\n",
       " var & lg & sq & sqt & none\\\\\n",
       "\\hline\n",
       "\t crmrte  & NA      & NA      & NA      & NA     \\\\\n",
       "\t prbarr  & NA      & NA      & NA      & NA     \\\\\n",
       "\t prbconv & NA      & NA      & NA      & NA     \\\\\n",
       "\t density & NA      & NA      & NA      & NA     \\\\\n",
       "\t taxpc   & NA      & NA      & NA      & NA     \\\\\n",
       "\t wage    & NA      & NA      & NA      & NA     \\\\\n",
       "\t pctymle & NA      & NA      & NA      & NA     \\\\\n",
       "\\end{tabular}\n"
      ],
      "text/markdown": [
       "\n",
       "var | lg | sq | sqt | none | \n",
       "|---|---|---|---|---|---|---|\n",
       "| crmrte  | NA      | NA      | NA      | NA      | \n",
       "| prbarr  | NA      | NA      | NA      | NA      | \n",
       "| prbconv | NA      | NA      | NA      | NA      | \n",
       "| density | NA      | NA      | NA      | NA      | \n",
       "| taxpc   | NA      | NA      | NA      | NA      | \n",
       "| wage    | NA      | NA      | NA      | NA      | \n",
       "| pctymle | NA      | NA      | NA      | NA      | \n",
       "\n",
       "\n"
      ],
      "text/plain": [
       "  var     lg sq sqt none\n",
       "1 crmrte  NA NA NA  NA  \n",
       "2 prbarr  NA NA NA  NA  \n",
       "3 prbconv NA NA NA  NA  \n",
       "4 density NA NA NA  NA  \n",
       "5 taxpc   NA NA NA  NA  \n",
       "6 wage    NA NA NA  NA  \n",
       "7 pctymle NA NA NA  NA  "
      ]
     },
     "metadata": {},
     "output_type": "display_data"
    },
    {
     "name": "stdout",
     "output_type": "stream",
     "text": [
      "[1] \"------------------Corr with Crime Rate. Square Trans of crmrte---------------------\"\n"
     ]
    },
    {
     "data": {
      "text/html": [
       "<table>\n",
       "<thead><tr><th scope=col>var</th><th scope=col>lg</th><th scope=col>sq</th><th scope=col>sqt</th><th scope=col>none</th></tr></thead>\n",
       "<tbody>\n",
       "\t<tr><td>crmrte </td><td>NA     </td><td>NA     </td><td>NA     </td><td>NA     </td></tr>\n",
       "\t<tr><td>prbarr </td><td>NA     </td><td>NA     </td><td>NA     </td><td>NA     </td></tr>\n",
       "\t<tr><td>prbconv</td><td>NA     </td><td>NA     </td><td>NA     </td><td>NA     </td></tr>\n",
       "\t<tr><td>density</td><td>NA     </td><td>NA     </td><td>NA     </td><td>NA     </td></tr>\n",
       "\t<tr><td>taxpc  </td><td>NA     </td><td>NA     </td><td>NA     </td><td>NA     </td></tr>\n",
       "\t<tr><td>wage   </td><td>NA     </td><td>NA     </td><td>NA     </td><td>NA     </td></tr>\n",
       "\t<tr><td>pctymle</td><td>NA     </td><td>NA     </td><td>NA     </td><td>NA     </td></tr>\n",
       "</tbody>\n",
       "</table>\n"
      ],
      "text/latex": [
       "\\begin{tabular}{r|lllll}\n",
       " var & lg & sq & sqt & none\\\\\n",
       "\\hline\n",
       "\t crmrte  & NA      & NA      & NA      & NA     \\\\\n",
       "\t prbarr  & NA      & NA      & NA      & NA     \\\\\n",
       "\t prbconv & NA      & NA      & NA      & NA     \\\\\n",
       "\t density & NA      & NA      & NA      & NA     \\\\\n",
       "\t taxpc   & NA      & NA      & NA      & NA     \\\\\n",
       "\t wage    & NA      & NA      & NA      & NA     \\\\\n",
       "\t pctymle & NA      & NA      & NA      & NA     \\\\\n",
       "\\end{tabular}\n"
      ],
      "text/markdown": [
       "\n",
       "var | lg | sq | sqt | none | \n",
       "|---|---|---|---|---|---|---|\n",
       "| crmrte  | NA      | NA      | NA      | NA      | \n",
       "| prbarr  | NA      | NA      | NA      | NA      | \n",
       "| prbconv | NA      | NA      | NA      | NA      | \n",
       "| density | NA      | NA      | NA      | NA      | \n",
       "| taxpc   | NA      | NA      | NA      | NA      | \n",
       "| wage    | NA      | NA      | NA      | NA      | \n",
       "| pctymle | NA      | NA      | NA      | NA      | \n",
       "\n",
       "\n"
      ],
      "text/plain": [
       "  var     lg sq sqt none\n",
       "1 crmrte  NA NA NA  NA  \n",
       "2 prbarr  NA NA NA  NA  \n",
       "3 prbconv NA NA NA  NA  \n",
       "4 density NA NA NA  NA  \n",
       "5 taxpc   NA NA NA  NA  \n",
       "6 wage    NA NA NA  NA  \n",
       "7 pctymle NA NA NA  NA  "
      ]
     },
     "metadata": {},
     "output_type": "display_data"
    },
    {
     "name": "stdout",
     "output_type": "stream",
     "text": [
      "[1] \"------------------Corr with Crime Rate. SQRT Trans of crmrte---------------------\"\n"
     ]
    },
    {
     "data": {
      "text/html": [
       "<table>\n",
       "<thead><tr><th scope=col>var</th><th scope=col>lg</th><th scope=col>sq</th><th scope=col>sqt</th><th scope=col>none</th></tr></thead>\n",
       "<tbody>\n",
       "\t<tr><td>crmrte </td><td>NA     </td><td>NA     </td><td>NA     </td><td>NA     </td></tr>\n",
       "\t<tr><td>prbarr </td><td>NA     </td><td>NA     </td><td>NA     </td><td>NA     </td></tr>\n",
       "\t<tr><td>prbconv</td><td>NA     </td><td>NA     </td><td>NA     </td><td>NA     </td></tr>\n",
       "\t<tr><td>density</td><td>NA     </td><td>NA     </td><td>NA     </td><td>NA     </td></tr>\n",
       "\t<tr><td>taxpc  </td><td>NA     </td><td>NA     </td><td>NA     </td><td>NA     </td></tr>\n",
       "\t<tr><td>wage   </td><td>NA     </td><td>NA     </td><td>NA     </td><td>NA     </td></tr>\n",
       "\t<tr><td>pctymle</td><td>NA     </td><td>NA     </td><td>NA     </td><td>NA     </td></tr>\n",
       "</tbody>\n",
       "</table>\n"
      ],
      "text/latex": [
       "\\begin{tabular}{r|lllll}\n",
       " var & lg & sq & sqt & none\\\\\n",
       "\\hline\n",
       "\t crmrte  & NA      & NA      & NA      & NA     \\\\\n",
       "\t prbarr  & NA      & NA      & NA      & NA     \\\\\n",
       "\t prbconv & NA      & NA      & NA      & NA     \\\\\n",
       "\t density & NA      & NA      & NA      & NA     \\\\\n",
       "\t taxpc   & NA      & NA      & NA      & NA     \\\\\n",
       "\t wage    & NA      & NA      & NA      & NA     \\\\\n",
       "\t pctymle & NA      & NA      & NA      & NA     \\\\\n",
       "\\end{tabular}\n"
      ],
      "text/markdown": [
       "\n",
       "var | lg | sq | sqt | none | \n",
       "|---|---|---|---|---|---|---|\n",
       "| crmrte  | NA      | NA      | NA      | NA      | \n",
       "| prbarr  | NA      | NA      | NA      | NA      | \n",
       "| prbconv | NA      | NA      | NA      | NA      | \n",
       "| density | NA      | NA      | NA      | NA      | \n",
       "| taxpc   | NA      | NA      | NA      | NA      | \n",
       "| wage    | NA      | NA      | NA      | NA      | \n",
       "| pctymle | NA      | NA      | NA      | NA      | \n",
       "\n",
       "\n"
      ],
      "text/plain": [
       "  var     lg sq sqt none\n",
       "1 crmrte  NA NA NA  NA  \n",
       "2 prbarr  NA NA NA  NA  \n",
       "3 prbconv NA NA NA  NA  \n",
       "4 density NA NA NA  NA  \n",
       "5 taxpc   NA NA NA  NA  \n",
       "6 wage    NA NA NA  NA  \n",
       "7 pctymle NA NA NA  NA  "
      ]
     },
     "metadata": {},
     "output_type": "display_data"
    }
   ],
   "source": [
    "\n",
    "\n",
    "#tdata <- data.frame(matrix(ncol = 12, nrow = 0))\n",
    "cols <- c(\"crmrte\", \"prbarr\", \"prbconv\", \"density\", \"taxpc\", \"wage\", \"pctymle\")\n",
    "#colnames(tdata) <- cols\n",
    "\n",
    "#for(ops in c('', 'lg', 'sq', 'sqt')){\n",
    "print('------------------Corr with Crime Rate. No trans of crmrte---------------------')\n",
    "   \n",
    "list_data <- list(cols, getLogTran(cdata, cols, 'lg', ''), \n",
    "                  getLogTran(cdata, cols, 'sq', ''), getLogTran(cdata, cols, 'sqt', ''), getLogTran(cdata, cols, '', ''))\n",
    "\n",
    "tdata  <-  as.data.frame(matrix(unlist(list_data), nrow=length(unlist(list_data[1]))))\n",
    "colnames(tdata) <- c(\"var\", \"lg\", \"sq\", \"sqt\", \"none\")\n",
    "tdata\n",
    "\n",
    "print('------------------Corr with Crime Rate. Log trans of crmrte---------------------')\n",
    "\n",
    "list_data <- list(cols, getLogTran(cdata, cols, 'lg', 'lg'), \n",
    "                  getLogTran(cdata, cols, 'sq', 'lg'), \n",
    "                  getLogTran(cdata, cols, 'sqt', 'lg'), \n",
    "                  getLogTran(cdata, cols, '', 'lg'))\n",
    "\n",
    "tdata  <-  as.data.frame(matrix(unlist(list_data), nrow=length(unlist(list_data[1]))))\n",
    "colnames(tdata) <- c(\"var\", \"lg\", \"sq\", \"sqt\", \"none\")\n",
    "tdata\n",
    "\n",
    "print('------------------Corr with Crime Rate. Square Trans of crmrte---------------------')\n",
    "\n",
    "\n",
    "list_data <- list(cols, getLogTran(cdata, cols, 'lg', 'sq'), \n",
    "                  getLogTran(cdata, cols, 'sq', 'sq'), \n",
    "                  getLogTran(cdata, cols, 'sqt', 'sq'), \n",
    "                  getLogTran(cdata, cols, '', 'sq'))\n",
    "\n",
    "tdata  <-  as.data.frame(matrix(unlist(list_data), nrow=length(unlist(list_data[1]))))\n",
    "colnames(tdata) <- c(\"var\", \"lg\", \"sq\", \"sqt\", \"none\")\n",
    "tdata\n",
    "\n",
    "print('------------------Corr with Crime Rate. SQRT Trans of crmrte---------------------')\n",
    "\n",
    "\n",
    "list_data <- list(cols, getLogTran(cdata, cols, 'lg', 'sqt'), \n",
    "                  getLogTran(cdata, cols, 'sq', 'sqt'), \n",
    "                  getLogTran(cdata, cols, 'sqt', 'sqt'), \n",
    "                  getLogTran(cdata, cols, '', 'sqt'))\n",
    "\n",
    "tdata  <-  as.data.frame(matrix(unlist(list_data), nrow=length(unlist(list_data[1]))))\n",
    "colnames(tdata) <- c(\"var\", \"lg\", \"sq\", \"sqt\", \"none\")\n",
    "tdata\n"
   ]
  },
  {
   "cell_type": "code",
   "execution_count": null,
   "metadata": {},
   "outputs": [],
   "source": []
  },
  {
   "cell_type": "code",
   "execution_count": null,
   "metadata": {},
   "outputs": [],
   "source": []
  }
 ],
 "metadata": {
  "kernelspec": {
   "display_name": "R",
   "language": "R",
   "name": "ir"
  },
  "language_info": {
   "codemirror_mode": "r",
   "file_extension": ".r",
   "mimetype": "text/x-r-source",
   "name": "R",
   "pygments_lexer": "r",
   "version": "3.5.1"
  }
 },
 "nbformat": 4,
 "nbformat_minor": 2
}
