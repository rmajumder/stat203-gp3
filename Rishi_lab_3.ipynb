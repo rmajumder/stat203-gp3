{
 "cells": [
  {
   "cell_type": "code",
   "execution_count": 2,
   "metadata": {},
   "outputs": [
    {
     "name": "stderr",
     "output_type": "stream",
     "text": [
      "Loading required package: magrittr\n",
      "Loading required package: carData\n"
     ]
    }
   ],
   "source": [
    "#library(car)\n",
    "#scatterplotMatrix(cdata[,c(\"crmrte\", \"polpc\", \"prbarr\", \"prbconv\", \"prbpris\")], diagonal = \"histogram\")\n",
    "library(ggplot2)\n",
    "library(GGally)\n",
    "library(ggcorrplot)\n",
    "library(ggpubr)\n",
    "library(car)"
   ]
  },
  {
   "cell_type": "markdown",
   "metadata": {},
   "source": [
    "### EDA"
   ]
  },
  {
   "cell_type": "markdown",
   "metadata": {},
   "source": [
    "#### Import the data and look at the first six rows"
   ]
  },
  {
   "cell_type": "code",
   "execution_count": 3,
   "metadata": {},
   "outputs": [
    {
     "data": {
      "text/html": [
       "<table>\n",
       "<thead><tr><th scope=col>county</th><th scope=col>year</th><th scope=col>crmrte</th><th scope=col>prbarr</th><th scope=col>prbconv</th><th scope=col>prbpris</th><th scope=col>avgsen</th><th scope=col>polpc</th><th scope=col>density</th><th scope=col>taxpc</th><th scope=col>...</th><th scope=col>wtuc</th><th scope=col>wtrd</th><th scope=col>wfir</th><th scope=col>wser</th><th scope=col>wmfg</th><th scope=col>wfed</th><th scope=col>wsta</th><th scope=col>wloc</th><th scope=col>mix</th><th scope=col>pctymle</th></tr></thead>\n",
       "<tbody>\n",
       "\t<tr><td> 1         </td><td>87         </td><td>0.0356036  </td><td>0.298270   </td><td>0.527595997</td><td>0.436170   </td><td> 6.71      </td><td>0.00182786 </td><td>2.4226327  </td><td>30.99368   </td><td>...        </td><td>408.7245   </td><td>221.2701   </td><td>453.1722   </td><td>274.1775   </td><td>334.54     </td><td>477.58     </td><td>292.09     </td><td>311.91     </td><td>0.08016878 </td><td>0.07787097 </td></tr>\n",
       "\t<tr><td> 3         </td><td>87         </td><td>0.0152532  </td><td>0.132029   </td><td>1.481480002</td><td>0.450000   </td><td> 6.35      </td><td>0.00074588 </td><td>1.0463320  </td><td>26.89208   </td><td>...        </td><td>376.2542   </td><td>196.0101   </td><td>258.5650   </td><td>192.3077   </td><td>300.38     </td><td>409.83     </td><td>362.96     </td><td>301.47     </td><td>0.03022670 </td><td>0.08260694 </td></tr>\n",
       "\t<tr><td> 5         </td><td>87         </td><td>0.0129603  </td><td>0.444444   </td><td>0.267856985</td><td>0.600000   </td><td> 6.76      </td><td>0.00123431 </td><td>0.4127659  </td><td>34.81605   </td><td>...        </td><td>372.2084   </td><td>229.3209   </td><td>305.9441   </td><td>209.6972   </td><td>237.65     </td><td>358.98     </td><td>331.53     </td><td>281.37     </td><td>0.46511629 </td><td>0.07211538 </td></tr>\n",
       "\t<tr><td> 7         </td><td>87         </td><td>0.0267532  </td><td>0.364760   </td><td>0.525424004</td><td>0.435484   </td><td> 7.14      </td><td>0.00152994 </td><td>0.4915572  </td><td>42.94759   </td><td>...        </td><td>397.6901   </td><td>191.1720   </td><td>281.0651   </td><td>256.7214   </td><td>281.80     </td><td>412.15     </td><td>328.27     </td><td>299.03     </td><td>0.27362204 </td><td>0.07353726 </td></tr>\n",
       "\t<tr><td> 9         </td><td>87         </td><td>0.0106232  </td><td>0.518219   </td><td>0.476563007</td><td>0.442623   </td><td> 8.22      </td><td>0.00086018 </td><td>0.5469484  </td><td>28.05474   </td><td>...        </td><td>377.3126   </td><td>206.8215   </td><td>289.3125   </td><td>215.1933   </td><td>290.89     </td><td>377.35     </td><td>367.23     </td><td>342.82     </td><td>0.06008584 </td><td>0.07069755 </td></tr>\n",
       "\t<tr><td>11         </td><td>87         </td><td>0.0146067  </td><td>0.524664   </td><td>0.068376102</td><td>0.500000   </td><td>13.00      </td><td>0.00288203 </td><td>0.6113361  </td><td>35.22974   </td><td>...        </td><td>401.3378   </td><td>187.8255   </td><td>258.5650   </td><td>237.1507   </td><td>258.60     </td><td>391.48     </td><td>325.71     </td><td>275.22     </td><td>0.31952664 </td><td>0.09891920 </td></tr>\n",
       "</tbody>\n",
       "</table>\n"
      ],
      "text/latex": [
       "\\begin{tabular}{r|lllllllllllllllllllllllll}\n",
       " county & year & crmrte & prbarr & prbconv & prbpris & avgsen & polpc & density & taxpc & ... & wtuc & wtrd & wfir & wser & wmfg & wfed & wsta & wloc & mix & pctymle\\\\\n",
       "\\hline\n",
       "\t  1          & 87          & 0.0356036   & 0.298270    & 0.527595997 & 0.436170    &  6.71       & 0.00182786  & 2.4226327   & 30.99368    & ...         & 408.7245    & 221.2701    & 453.1722    & 274.1775    & 334.54      & 477.58      & 292.09      & 311.91      & 0.08016878  & 0.07787097 \\\\\n",
       "\t  3          & 87          & 0.0152532   & 0.132029    & 1.481480002 & 0.450000    &  6.35       & 0.00074588  & 1.0463320   & 26.89208    & ...         & 376.2542    & 196.0101    & 258.5650    & 192.3077    & 300.38      & 409.83      & 362.96      & 301.47      & 0.03022670  & 0.08260694 \\\\\n",
       "\t  5          & 87          & 0.0129603   & 0.444444    & 0.267856985 & 0.600000    &  6.76       & 0.00123431  & 0.4127659   & 34.81605    & ...         & 372.2084    & 229.3209    & 305.9441    & 209.6972    & 237.65      & 358.98      & 331.53      & 281.37      & 0.46511629  & 0.07211538 \\\\\n",
       "\t  7          & 87          & 0.0267532   & 0.364760    & 0.525424004 & 0.435484    &  7.14       & 0.00152994  & 0.4915572   & 42.94759    & ...         & 397.6901    & 191.1720    & 281.0651    & 256.7214    & 281.80      & 412.15      & 328.27      & 299.03      & 0.27362204  & 0.07353726 \\\\\n",
       "\t  9          & 87          & 0.0106232   & 0.518219    & 0.476563007 & 0.442623    &  8.22       & 0.00086018  & 0.5469484   & 28.05474    & ...         & 377.3126    & 206.8215    & 289.3125    & 215.1933    & 290.89      & 377.35      & 367.23      & 342.82      & 0.06008584  & 0.07069755 \\\\\n",
       "\t 11          & 87          & 0.0146067   & 0.524664    & 0.068376102 & 0.500000    & 13.00       & 0.00288203  & 0.6113361   & 35.22974    & ...         & 401.3378    & 187.8255    & 258.5650    & 237.1507    & 258.60      & 391.48      & 325.71      & 275.22      & 0.31952664  & 0.09891920 \\\\\n",
       "\\end{tabular}\n"
      ],
      "text/markdown": [
       "\n",
       "county | year | crmrte | prbarr | prbconv | prbpris | avgsen | polpc | density | taxpc | ... | wtuc | wtrd | wfir | wser | wmfg | wfed | wsta | wloc | mix | pctymle | \n",
       "|---|---|---|---|---|---|\n",
       "|  1          | 87          | 0.0356036   | 0.298270    | 0.527595997 | 0.436170    |  6.71       | 0.00182786  | 2.4226327   | 30.99368    | ...         | 408.7245    | 221.2701    | 453.1722    | 274.1775    | 334.54      | 477.58      | 292.09      | 311.91      | 0.08016878  | 0.07787097  | \n",
       "|  3          | 87          | 0.0152532   | 0.132029    | 1.481480002 | 0.450000    |  6.35       | 0.00074588  | 1.0463320   | 26.89208    | ...         | 376.2542    | 196.0101    | 258.5650    | 192.3077    | 300.38      | 409.83      | 362.96      | 301.47      | 0.03022670  | 0.08260694  | \n",
       "|  5          | 87          | 0.0129603   | 0.444444    | 0.267856985 | 0.600000    |  6.76       | 0.00123431  | 0.4127659   | 34.81605    | ...         | 372.2084    | 229.3209    | 305.9441    | 209.6972    | 237.65      | 358.98      | 331.53      | 281.37      | 0.46511629  | 0.07211538  | \n",
       "|  7          | 87          | 0.0267532   | 0.364760    | 0.525424004 | 0.435484    |  7.14       | 0.00152994  | 0.4915572   | 42.94759    | ...         | 397.6901    | 191.1720    | 281.0651    | 256.7214    | 281.80      | 412.15      | 328.27      | 299.03      | 0.27362204  | 0.07353726  | \n",
       "|  9          | 87          | 0.0106232   | 0.518219    | 0.476563007 | 0.442623    |  8.22       | 0.00086018  | 0.5469484   | 28.05474    | ...         | 377.3126    | 206.8215    | 289.3125    | 215.1933    | 290.89      | 377.35      | 367.23      | 342.82      | 0.06008584  | 0.07069755  | \n",
       "| 11          | 87          | 0.0146067   | 0.524664    | 0.068376102 | 0.500000    | 13.00       | 0.00288203  | 0.6113361   | 35.22974    | ...         | 401.3378    | 187.8255    | 258.5650    | 237.1507    | 258.60      | 391.48      | 325.71      | 275.22      | 0.31952664  | 0.09891920  | \n",
       "\n",
       "\n"
      ],
      "text/plain": [
       "  county year crmrte    prbarr   prbconv     prbpris  avgsen polpc     \n",
       "1  1     87   0.0356036 0.298270 0.527595997 0.436170  6.71  0.00182786\n",
       "2  3     87   0.0152532 0.132029 1.481480002 0.450000  6.35  0.00074588\n",
       "3  5     87   0.0129603 0.444444 0.267856985 0.600000  6.76  0.00123431\n",
       "4  7     87   0.0267532 0.364760 0.525424004 0.435484  7.14  0.00152994\n",
       "5  9     87   0.0106232 0.518219 0.476563007 0.442623  8.22  0.00086018\n",
       "6 11     87   0.0146067 0.524664 0.068376102 0.500000 13.00  0.00288203\n",
       "  density   taxpc    ... wtuc     wtrd     wfir     wser     wmfg   wfed  \n",
       "1 2.4226327 30.99368 ... 408.7245 221.2701 453.1722 274.1775 334.54 477.58\n",
       "2 1.0463320 26.89208 ... 376.2542 196.0101 258.5650 192.3077 300.38 409.83\n",
       "3 0.4127659 34.81605 ... 372.2084 229.3209 305.9441 209.6972 237.65 358.98\n",
       "4 0.4915572 42.94759 ... 397.6901 191.1720 281.0651 256.7214 281.80 412.15\n",
       "5 0.5469484 28.05474 ... 377.3126 206.8215 289.3125 215.1933 290.89 377.35\n",
       "6 0.6113361 35.22974 ... 401.3378 187.8255 258.5650 237.1507 258.60 391.48\n",
       "  wsta   wloc   mix        pctymle   \n",
       "1 292.09 311.91 0.08016878 0.07787097\n",
       "2 362.96 301.47 0.03022670 0.08260694\n",
       "3 331.53 281.37 0.46511629 0.07211538\n",
       "4 328.27 299.03 0.27362204 0.07353726\n",
       "5 367.23 342.82 0.06008584 0.07069755\n",
       "6 325.71 275.22 0.31952664 0.09891920"
      ]
     },
     "metadata": {},
     "output_type": "display_data"
    }
   ],
   "source": [
    "data <- read.csv(file = 'crime_v2.csv')\n",
    "head(data)"
   ]
  },
  {
   "cell_type": "markdown",
   "metadata": {},
   "source": [
    "#### Get summary of data and spot anomalies"
   ]
  },
  {
   "cell_type": "code",
   "execution_count": 4,
   "metadata": {},
   "outputs": [
    {
     "data": {
      "text/plain": [
       "     county           year        crmrte             prbarr       \n",
       " Min.   :  1.0   Min.   :87   Min.   :0.005533   Min.   :0.09277  \n",
       " 1st Qu.: 52.0   1st Qu.:87   1st Qu.:0.020927   1st Qu.:0.20568  \n",
       " Median :105.0   Median :87   Median :0.029986   Median :0.27095  \n",
       " Mean   :101.6   Mean   :87   Mean   :0.033400   Mean   :0.29492  \n",
       " 3rd Qu.:152.0   3rd Qu.:87   3rd Qu.:0.039642   3rd Qu.:0.34438  \n",
       " Max.   :197.0   Max.   :87   Max.   :0.098966   Max.   :1.09091  \n",
       " NA's   :6       NA's   :6    NA's   :6          NA's   :6        \n",
       "        prbconv      prbpris           avgsen           polpc         \n",
       "            : 5   Min.   :0.1500   Min.   : 5.380   Min.   :0.000746  \n",
       " 0.588859022: 2   1st Qu.:0.3648   1st Qu.: 7.340   1st Qu.:0.001231  \n",
       " `          : 1   Median :0.4234   Median : 9.100   Median :0.001485  \n",
       " 0.068376102: 1   Mean   :0.4108   Mean   : 9.647   Mean   :0.001702  \n",
       " 0.140350997: 1   3rd Qu.:0.4568   3rd Qu.:11.420   3rd Qu.:0.001877  \n",
       " 0.154451996: 1   Max.   :0.6000   Max.   :20.700   Max.   :0.009054  \n",
       " (Other)    :86   NA's   :6        NA's   :6        NA's   :6         \n",
       "    density            taxpc             west           central      \n",
       " Min.   :0.00002   Min.   : 25.69   Min.   :0.0000   Min.   :0.0000  \n",
       " 1st Qu.:0.54741   1st Qu.: 30.66   1st Qu.:0.0000   1st Qu.:0.0000  \n",
       " Median :0.96226   Median : 34.87   Median :0.0000   Median :0.0000  \n",
       " Mean   :1.42884   Mean   : 38.06   Mean   :0.2527   Mean   :0.3736  \n",
       " 3rd Qu.:1.56824   3rd Qu.: 40.95   3rd Qu.:0.5000   3rd Qu.:1.0000  \n",
       " Max.   :8.82765   Max.   :119.76   Max.   :1.0000   Max.   :1.0000  \n",
       " NA's   :6         NA's   :6        NA's   :6        NA's   :6       \n",
       "     urban            pctmin80           wcon            wtuc      \n",
       " Min.   :0.00000   Min.   : 1.284   Min.   :193.6   Min.   :187.6  \n",
       " 1st Qu.:0.00000   1st Qu.: 9.845   1st Qu.:250.8   1st Qu.:374.6  \n",
       " Median :0.00000   Median :24.312   Median :281.4   Median :406.5  \n",
       " Mean   :0.08791   Mean   :25.495   Mean   :285.4   Mean   :411.7  \n",
       " 3rd Qu.:0.00000   3rd Qu.:38.142   3rd Qu.:314.8   3rd Qu.:443.4  \n",
       " Max.   :1.00000   Max.   :64.348   Max.   :436.8   Max.   :613.2  \n",
       " NA's   :6         NA's   :6        NA's   :6       NA's   :6      \n",
       "      wtrd            wfir            wser             wmfg      \n",
       " Min.   :154.2   Min.   :170.9   Min.   : 133.0   Min.   :157.4  \n",
       " 1st Qu.:190.9   1st Qu.:286.5   1st Qu.: 229.7   1st Qu.:288.9  \n",
       " Median :203.0   Median :317.3   Median : 253.2   Median :320.2  \n",
       " Mean   :211.6   Mean   :322.1   Mean   : 275.6   Mean   :335.6  \n",
       " 3rd Qu.:225.1   3rd Qu.:345.4   3rd Qu.: 280.5   3rd Qu.:359.6  \n",
       " Max.   :354.7   Max.   :509.5   Max.   :2177.1   Max.   :646.9  \n",
       " NA's   :6       NA's   :6       NA's   :6        NA's   :6      \n",
       "      wfed            wsta            wloc            mix         \n",
       " Min.   :326.1   Min.   :258.3   Min.   :239.2   Min.   :0.01961  \n",
       " 1st Qu.:400.2   1st Qu.:329.3   1st Qu.:297.3   1st Qu.:0.08074  \n",
       " Median :449.8   Median :357.7   Median :308.1   Median :0.10186  \n",
       " Mean   :442.9   Mean   :357.5   Mean   :312.7   Mean   :0.12884  \n",
       " 3rd Qu.:478.0   3rd Qu.:382.6   3rd Qu.:329.2   3rd Qu.:0.15175  \n",
       " Max.   :598.0   Max.   :499.6   Max.   :388.1   Max.   :0.46512  \n",
       " NA's   :6       NA's   :6       NA's   :6       NA's   :6        \n",
       "    pctymle       \n",
       " Min.   :0.06216  \n",
       " 1st Qu.:0.07443  \n",
       " Median :0.07771  \n",
       " Mean   :0.08396  \n",
       " 3rd Qu.:0.08350  \n",
       " Max.   :0.24871  \n",
       " NA's   :6        "
      ]
     },
     "metadata": {},
     "output_type": "display_data"
    }
   ],
   "source": [
    "summary(data)"
   ]
  },
  {
   "cell_type": "markdown",
   "metadata": {},
   "source": [
    "It seems every variable has 6 NA values. If those are across the rows, then the respective rows could be removed."
   ]
  },
  {
   "cell_type": "code",
   "execution_count": 5,
   "metadata": {},
   "outputs": [
    {
     "data": {
      "text/html": [
       "<table>\n",
       "<thead><tr><th></th><th scope=col>county</th><th scope=col>year</th><th scope=col>crmrte</th><th scope=col>prbarr</th><th scope=col>prbconv</th><th scope=col>prbpris</th><th scope=col>avgsen</th><th scope=col>polpc</th><th scope=col>density</th><th scope=col>taxpc</th><th scope=col>...</th><th scope=col>wtuc</th><th scope=col>wtrd</th><th scope=col>wfir</th><th scope=col>wser</th><th scope=col>wmfg</th><th scope=col>wfed</th><th scope=col>wsta</th><th scope=col>wloc</th><th scope=col>mix</th><th scope=col>pctymle</th></tr></thead>\n",
       "<tbody>\n",
       "\t<tr><th scope=row>92</th><td>NA </td><td>NA </td><td>NA </td><td>NA </td><td>   </td><td>NA </td><td>NA </td><td>NA </td><td>NA </td><td>NA </td><td>...</td><td>NA </td><td>NA </td><td>NA </td><td>NA </td><td>NA </td><td>NA </td><td>NA </td><td>NA </td><td>NA </td><td>NA </td></tr>\n",
       "\t<tr><th scope=row>93</th><td>NA </td><td>NA </td><td>NA </td><td>NA </td><td>   </td><td>NA </td><td>NA </td><td>NA </td><td>NA </td><td>NA </td><td>...</td><td>NA </td><td>NA </td><td>NA </td><td>NA </td><td>NA </td><td>NA </td><td>NA </td><td>NA </td><td>NA </td><td>NA </td></tr>\n",
       "\t<tr><th scope=row>94</th><td>NA </td><td>NA </td><td>NA </td><td>NA </td><td>   </td><td>NA </td><td>NA </td><td>NA </td><td>NA </td><td>NA </td><td>...</td><td>NA </td><td>NA </td><td>NA </td><td>NA </td><td>NA </td><td>NA </td><td>NA </td><td>NA </td><td>NA </td><td>NA </td></tr>\n",
       "\t<tr><th scope=row>95</th><td>NA </td><td>NA </td><td>NA </td><td>NA </td><td>   </td><td>NA </td><td>NA </td><td>NA </td><td>NA </td><td>NA </td><td>...</td><td>NA </td><td>NA </td><td>NA </td><td>NA </td><td>NA </td><td>NA </td><td>NA </td><td>NA </td><td>NA </td><td>NA </td></tr>\n",
       "\t<tr><th scope=row>96</th><td>NA </td><td>NA </td><td>NA </td><td>NA </td><td>   </td><td>NA </td><td>NA </td><td>NA </td><td>NA </td><td>NA </td><td>...</td><td>NA </td><td>NA </td><td>NA </td><td>NA </td><td>NA </td><td>NA </td><td>NA </td><td>NA </td><td>NA </td><td>NA </td></tr>\n",
       "\t<tr><th scope=row>97</th><td>NA </td><td>NA </td><td>NA </td><td>NA </td><td>`  </td><td>NA </td><td>NA </td><td>NA </td><td>NA </td><td>NA </td><td>...</td><td>NA </td><td>NA </td><td>NA </td><td>NA </td><td>NA </td><td>NA </td><td>NA </td><td>NA </td><td>NA </td><td>NA </td></tr>\n",
       "</tbody>\n",
       "</table>\n"
      ],
      "text/latex": [
       "\\begin{tabular}{r|lllllllllllllllllllllllll}\n",
       "  & county & year & crmrte & prbarr & prbconv & prbpris & avgsen & polpc & density & taxpc & ... & wtuc & wtrd & wfir & wser & wmfg & wfed & wsta & wloc & mix & pctymle\\\\\n",
       "\\hline\n",
       "\t92 & NA  & NA  & NA  & NA  &     & NA  & NA  & NA  & NA  & NA  & ... & NA  & NA  & NA  & NA  & NA  & NA  & NA  & NA  & NA  & NA \\\\\n",
       "\t93 & NA  & NA  & NA  & NA  &     & NA  & NA  & NA  & NA  & NA  & ... & NA  & NA  & NA  & NA  & NA  & NA  & NA  & NA  & NA  & NA \\\\\n",
       "\t94 & NA  & NA  & NA  & NA  &     & NA  & NA  & NA  & NA  & NA  & ... & NA  & NA  & NA  & NA  & NA  & NA  & NA  & NA  & NA  & NA \\\\\n",
       "\t95 & NA  & NA  & NA  & NA  &     & NA  & NA  & NA  & NA  & NA  & ... & NA  & NA  & NA  & NA  & NA  & NA  & NA  & NA  & NA  & NA \\\\\n",
       "\t96 & NA  & NA  & NA  & NA  &     & NA  & NA  & NA  & NA  & NA  & ... & NA  & NA  & NA  & NA  & NA  & NA  & NA  & NA  & NA  & NA \\\\\n",
       "\t97 & NA  & NA  & NA  & NA  & `   & NA  & NA  & NA  & NA  & NA  & ... & NA  & NA  & NA  & NA  & NA  & NA  & NA  & NA  & NA  & NA \\\\\n",
       "\\end{tabular}\n"
      ],
      "text/markdown": [
       "\n",
       "| <!--/--> | county | year | crmrte | prbarr | prbconv | prbpris | avgsen | polpc | density | taxpc | ... | wtuc | wtrd | wfir | wser | wmfg | wfed | wsta | wloc | mix | pctymle | \n",
       "|---|---|---|---|---|---|\n",
       "| 92 | NA  | NA  | NA  | NA  |     | NA  | NA  | NA  | NA  | NA  | ... | NA  | NA  | NA  | NA  | NA  | NA  | NA  | NA  | NA  | NA  | \n",
       "| 93 | NA  | NA  | NA  | NA  |     | NA  | NA  | NA  | NA  | NA  | ... | NA  | NA  | NA  | NA  | NA  | NA  | NA  | NA  | NA  | NA  | \n",
       "| 94 | NA  | NA  | NA  | NA  |     | NA  | NA  | NA  | NA  | NA  | ... | NA  | NA  | NA  | NA  | NA  | NA  | NA  | NA  | NA  | NA  | \n",
       "| 95 | NA  | NA  | NA  | NA  |     | NA  | NA  | NA  | NA  | NA  | ... | NA  | NA  | NA  | NA  | NA  | NA  | NA  | NA  | NA  | NA  | \n",
       "| 96 | NA  | NA  | NA  | NA  |     | NA  | NA  | NA  | NA  | NA  | ... | NA  | NA  | NA  | NA  | NA  | NA  | NA  | NA  | NA  | NA  | \n",
       "| 97 | NA  | NA  | NA  | NA  | `   | NA  | NA  | NA  | NA  | NA  | ... | NA  | NA  | NA  | NA  | NA  | NA  | NA  | NA  | NA  | NA  | \n",
       "\n",
       "\n"
      ],
      "text/plain": [
       "   county year crmrte prbarr prbconv prbpris avgsen polpc density taxpc ...\n",
       "92 NA     NA   NA     NA             NA      NA     NA    NA      NA    ...\n",
       "93 NA     NA   NA     NA             NA      NA     NA    NA      NA    ...\n",
       "94 NA     NA   NA     NA             NA      NA     NA    NA      NA    ...\n",
       "95 NA     NA   NA     NA             NA      NA     NA    NA      NA    ...\n",
       "96 NA     NA   NA     NA             NA      NA     NA    NA      NA    ...\n",
       "97 NA     NA   NA     NA     `       NA      NA     NA    NA      NA    ...\n",
       "   wtuc wtrd wfir wser wmfg wfed wsta wloc mix pctymle\n",
       "92 NA   NA   NA   NA   NA   NA   NA   NA   NA  NA     \n",
       "93 NA   NA   NA   NA   NA   NA   NA   NA   NA  NA     \n",
       "94 NA   NA   NA   NA   NA   NA   NA   NA   NA  NA     \n",
       "95 NA   NA   NA   NA   NA   NA   NA   NA   NA  NA     \n",
       "96 NA   NA   NA   NA   NA   NA   NA   NA   NA  NA     \n",
       "97 NA   NA   NA   NA   NA   NA   NA   NA   NA  NA     "
      ]
     },
     "metadata": {},
     "output_type": "display_data"
    }
   ],
   "source": [
    "(new_data <- data[rowSums(is.na(data)) > 0,])"
   ]
  },
  {
   "cell_type": "markdown",
   "metadata": {},
   "source": [
    "The assumption was right. Now, those rows could be safely deleted."
   ]
  },
  {
   "cell_type": "code",
   "execution_count": 6,
   "metadata": {},
   "outputs": [],
   "source": [
    "cdata <- data[!is.na(data$crmrte),]"
   ]
  },
  {
   "cell_type": "markdown",
   "metadata": {},
   "source": [
    "A close look at the probability of convition variable shows a non-numeric value"
   ]
  },
  {
   "cell_type": "code",
   "execution_count": 9,
   "metadata": {},
   "outputs": [],
   "source": [
    "cdata$prbconv <- as.numeric(gsub(\"[^0-9.]+\", \"\", cdata$prbconv))"
   ]
  },
  {
   "cell_type": "markdown",
   "metadata": {},
   "source": [
    "### Variable Selection"
   ]
  },
  {
   "cell_type": "markdown",
   "metadata": {},
   "source": [
    "crime rate = number of crimes/population count <br>\n",
    "If the population stays constant, crime rate has a linear relationship with number of crime. In addition, considering rates, instead of taking actual number, helps to standardize the values. <br>\n",
    "\n",
    "Similar to crime rate, probability or ratio of arrest or convition or prison have linear relationship with arrest/conviction/prison.\n",
    "\n",
    "pro of arr = arr/offenses <br>\n",
    "pro of conv = conv/arr <br>\n",
    "pro of prison = prison/convictions <br>\n",
    "\n",
    "It means no transformation is necessary for these key variables."
   ]
  },
  {
   "cell_type": "markdown",
   "metadata": {},
   "source": [
    "Since the objective is the find out the of reason(s) behind higher crimes, the variable 'crmrte' should be the dependent variable. Now, before model building, it is important to understand the relationships between the dependent and possible independent variables."
   ]
  },
  {
   "cell_type": "markdown",
   "metadata": {},
   "source": [
    "### Analyze Dependent and Independent Variable"
   ]
  },
  {
   "cell_type": "code",
   "execution_count": 10,
   "metadata": {},
   "outputs": [
    {
     "data": {},
     "metadata": {},
     "output_type": "display_data"
    },
    {
     "data": {
      "image/png": "[encoded data removed]",
      "text/plain": [
       "plot without title"
      ]
     },
     "metadata": {},
     "output_type": "display_data"
    }
   ],
   "source": [
    "#hist(cdata$crmrte)\n",
    "\n",
    "c <- ggplot(data=cdata, aes(crmrte)) +\n",
    "    geom_histogram(bins=10, fill=\"red\", color=\"black\") + \n",
    "    ggtitle(paste(\"Crime Rate\"))\n",
    "\n",
    "cn <- ggplot(data=cdata, aes(prbconv)) +\n",
    "    geom_histogram(bins=10, fill=\"blue\", color=\"black\") + \n",
    "    ggtitle(paste(\"Pro. Conv\"))\n",
    "\n",
    "dn <- ggplot(data=cdata, aes(density)) +\n",
    "    geom_histogram(bins=7, fill=\"blue\", color=\"black\") + \n",
    "    ggtitle(paste(\"Pro. Density\"))\n",
    "\n",
    "ar <- ggplot(data=cdata, aes(prbarr)) +\n",
    "    geom_histogram(bins=7, fill=\"blue\", color=\"black\") + \n",
    "    ggtitle(paste(\"Pro. Arrest\"))\n",
    "\n",
    "tp <- ggplot(data=cdata, aes(taxpc)) +\n",
    "    geom_histogram(bins=7, fill=\"blue\", color=\"black\") + \n",
    "    ggtitle(paste(\"Tax Rev\"))\n",
    "\n",
    "wc <- ggplot(data=cdata, aes(wcon)) +\n",
    "    geom_histogram(bins=7, fill=\"blue\", color=\"black\") + \n",
    "    ggtitle(paste(\"Cont Wage\"))\n",
    "\n",
    "wtr <- ggplot(data=cdata, aes(wtrd)) +\n",
    "    geom_histogram(bins=7, fill=\"blue\", color=\"black\") + \n",
    "    ggtitle(paste(\"Retail Trade\"))\n",
    "\n",
    "wfr <- ggplot(data=cdata, aes(wfir)) +\n",
    "    geom_histogram(bins=7, fill=\"blue\", color=\"black\") + \n",
    "    ggtitle(paste(\"Real Est\"))\n",
    "\n",
    "wmf <- ggplot(data=cdata, aes(wmfg)) +\n",
    "    geom_histogram(bins=7, fill=\"blue\", color=\"black\") + \n",
    "    ggtitle(paste(\"Manufac\"))\n",
    "\n",
    "wfd <- ggplot(data=cdata, aes(wfed)) +\n",
    "    geom_histogram(bins=7, fill=\"blue\", color=\"black\") + \n",
    "    ggtitle(paste(\"Fed Emp\"))\n",
    "\n",
    "wl <- ggplot(data=cdata, aes(wloc)) +\n",
    "    geom_histogram(bins=7, fill=\"blue\", color=\"black\") + \n",
    "    ggtitle(paste(\"Local Emp\"))\n",
    "\n",
    "pct <- ggplot(data=cdata, aes(pctymle)) +\n",
    "    geom_histogram(bins=7, fill=\"blue\", color=\"black\") + \n",
    "    ggtitle(paste(\"Perct Y Male\"))\n",
    "\n",
    "ggarrange(c, cn, dn, ar,tp, wc,wtr,wfr,wmf, wfd,wl, pct,\n",
    "          ncol = 3, nrow = 4)"
   ]
  },
  {
   "cell_type": "code",
   "execution_count": 11,
   "metadata": {},
   "outputs": [
    {
     "data": {},
     "metadata": {},
     "output_type": "display_data"
    },
    {
     "data": {
      "image/png": "[encoded data removed]",
      "text/plain": [
       "plot without title"
      ]
     },
     "metadata": {},
     "output_type": "display_data"
    }
   ],
   "source": [
    "smoothing_method = \"glm\"\n",
    "options(repr.plot.width=7, repr.plot.height=7)\n",
    "ggscatmat(cdata[,c(\"crmrte\", \"prbarr\", \"prbconv\", \"density\", \"taxpc\", \"wcon\", \"wtrd\", \"wfir\", \"wmfg\", \"wfed\", \"wloc\", \"pctymle\")], alpha=0.8) +\n",
    "geom_smooth(method=smoothing_method)"
   ]
  },
  {
   "cell_type": "markdown",
   "metadata": {},
   "source": [
    "Variables with weak relationship <br>\n",
    "\n",
    "\"mix\", \"wser\", \"polpc\", \"avgsen\", \"pctmin80\", \"wsta\", \"wtuc\", \"prbpris\""
   ]
  },
  {
   "cell_type": "markdown",
   "metadata": {},
   "source": [
    "### Compare Corr for Different Transformation with Crime Rate"
   ]
  },
  {
   "cell_type": "code",
   "execution_count": 13,
   "metadata": {},
   "outputs": [
    {
     "name": "stdout",
     "output_type": "stream",
     "text": [
      "[1] \"------------------Corr with Crime Rate. No trans of crmrte---------------------\"\n"
     ]
    },
    {
     "data": {
      "text/html": [
       "<table>\n",
       "<thead><tr><th scope=col>var</th><th scope=col>lg</th><th scope=col>sq</th><th scope=col>sqt</th><th scope=col>none</th></tr></thead>\n",
       "<tbody>\n",
       "\t<tr><td>crmrte            </td><td>0.94155941652815  </td><td>0.963314447688739 </td><td>0.986585485007721 </td><td>1                 </td></tr>\n",
       "\t<tr><td>prbarr            </td><td>-0.419822581643   </td><td>-0.320465605575069</td><td>-0.413135695720821</td><td>-0.39332973735363 </td></tr>\n",
       "\t<tr><td>prbconv           </td><td>-0.364752954240707</td><td>-0.331074792409666</td><td>-0.392246653034489</td><td>-0.385972361706137</td></tr>\n",
       "\t<tr><td>density           </td><td>0.477607761812432 </td><td>0.660066274500242 </td><td>0.733462985063669 </td><td>0.728963158061984 </td></tr>\n",
       "\t<tr><td>taxpc             </td><td>0.415564519823015 </td><td>0.44182777372935  </td><td>0.437572604049532 </td><td>0.4509797818509   </td></tr>\n",
       "\t<tr><td>wcon              </td><td>0.380299619445919 </td><td>0.401694232842044 </td><td>0.386622362460203 </td><td>0.39229443535912  </td></tr>\n",
       "\t<tr><td>wtrd              </td><td>0.392409116015411 </td><td>0.426387026310302 </td><td>0.401340429749109 </td><td>0.410105585330591 </td></tr>\n",
       "\t<tr><td>wfir              </td><td>0.312002710121516 </td><td>0.343645836169541 </td><td>0.321294225375552 </td><td>0.329611989689664 </td></tr>\n",
       "\t<tr><td>wmfg              </td><td>0.385690233607561 </td><td>0.30668110576027  </td><td>0.372896376265288 </td><td>0.354288005359683 </td></tr>\n",
       "\t<tr><td>wfed              </td><td>0.454605581290155 </td><td>0.513671043937348 </td><td>0.4708184473765   </td><td>0.486155764564391 </td></tr>\n",
       "\t<tr><td>wloc              </td><td>0.353551440369016 </td><td>0.340525716580496 </td><td>0.351357245122664 </td><td>0.348435322995623 </td></tr>\n",
       "\t<tr><td>pctymle           </td><td>0.324972570053244 </td><td>0.245450825730505 </td><td>0.310144690951903 </td><td>0.291248491056166 </td></tr>\n",
       "</tbody>\n",
       "</table>\n"
      ],
      "text/latex": [
       "\\begin{tabular}{r|lllll}\n",
       " var & lg & sq & sqt & none\\\\\n",
       "\\hline\n",
       "\t crmrte             & 0.94155941652815   & 0.963314447688739  & 0.986585485007721  & 1                 \\\\\n",
       "\t prbarr             & -0.419822581643    & -0.320465605575069 & -0.413135695720821 & -0.39332973735363 \\\\\n",
       "\t prbconv            & -0.364752954240707 & -0.331074792409666 & -0.392246653034489 & -0.385972361706137\\\\\n",
       "\t density            & 0.477607761812432  & 0.660066274500242  & 0.733462985063669  & 0.728963158061984 \\\\\n",
       "\t taxpc              & 0.415564519823015  & 0.44182777372935   & 0.437572604049532  & 0.4509797818509   \\\\\n",
       "\t wcon               & 0.380299619445919  & 0.401694232842044  & 0.386622362460203  & 0.39229443535912  \\\\\n",
       "\t wtrd               & 0.392409116015411  & 0.426387026310302  & 0.401340429749109  & 0.410105585330591 \\\\\n",
       "\t wfir               & 0.312002710121516  & 0.343645836169541  & 0.321294225375552  & 0.329611989689664 \\\\\n",
       "\t wmfg               & 0.385690233607561  & 0.30668110576027   & 0.372896376265288  & 0.354288005359683 \\\\\n",
       "\t wfed               & 0.454605581290155  & 0.513671043937348  & 0.4708184473765    & 0.486155764564391 \\\\\n",
       "\t wloc               & 0.353551440369016  & 0.340525716580496  & 0.351357245122664  & 0.348435322995623 \\\\\n",
       "\t pctymle            & 0.324972570053244  & 0.245450825730505  & 0.310144690951903  & 0.291248491056166 \\\\\n",
       "\\end{tabular}\n"
      ],
      "text/markdown": [
       "\n",
       "var | lg | sq | sqt | none | \n",
       "|---|---|---|---|---|---|---|---|---|---|---|---|\n",
       "| crmrte             | 0.94155941652815   | 0.963314447688739  | 0.986585485007721  | 1                  | \n",
       "| prbarr             | -0.419822581643    | -0.320465605575069 | -0.413135695720821 | -0.39332973735363  | \n",
       "| prbconv            | -0.364752954240707 | -0.331074792409666 | -0.392246653034489 | -0.385972361706137 | \n",
       "| density            | 0.477607761812432  | 0.660066274500242  | 0.733462985063669  | 0.728963158061984  | \n",
       "| taxpc              | 0.415564519823015  | 0.44182777372935   | 0.437572604049532  | 0.4509797818509    | \n",
       "| wcon               | 0.380299619445919  | 0.401694232842044  | 0.386622362460203  | 0.39229443535912   | \n",
       "| wtrd               | 0.392409116015411  | 0.426387026310302  | 0.401340429749109  | 0.410105585330591  | \n",
       "| wfir               | 0.312002710121516  | 0.343645836169541  | 0.321294225375552  | 0.329611989689664  | \n",
       "| wmfg               | 0.385690233607561  | 0.30668110576027   | 0.372896376265288  | 0.354288005359683  | \n",
       "| wfed               | 0.454605581290155  | 0.513671043937348  | 0.4708184473765    | 0.486155764564391  | \n",
       "| wloc               | 0.353551440369016  | 0.340525716580496  | 0.351357245122664  | 0.348435322995623  | \n",
       "| pctymle            | 0.324972570053244  | 0.245450825730505  | 0.310144690951903  | 0.291248491056166  | \n",
       "\n",
       "\n"
      ],
      "text/plain": [
       "   var     lg                 sq                 sqt               \n",
       "1  crmrte  0.94155941652815   0.963314447688739  0.986585485007721 \n",
       "2  prbarr  -0.419822581643    -0.320465605575069 -0.413135695720821\n",
       "3  prbconv -0.364752954240707 -0.331074792409666 -0.392246653034489\n",
       "4  density 0.477607761812432  0.660066274500242  0.733462985063669 \n",
       "5  taxpc   0.415564519823015  0.44182777372935   0.437572604049532 \n",
       "6  wcon    0.380299619445919  0.401694232842044  0.386622362460203 \n",
       "7  wtrd    0.392409116015411  0.426387026310302  0.401340429749109 \n",
       "8  wfir    0.312002710121516  0.343645836169541  0.321294225375552 \n",
       "9  wmfg    0.385690233607561  0.30668110576027   0.372896376265288 \n",
       "10 wfed    0.454605581290155  0.513671043937348  0.4708184473765   \n",
       "11 wloc    0.353551440369016  0.340525716580496  0.351357245122664 \n",
       "12 pctymle 0.324972570053244  0.245450825730505  0.310144690951903 \n",
       "   none              \n",
       "1  1                 \n",
       "2  -0.39332973735363 \n",
       "3  -0.385972361706137\n",
       "4  0.728963158061984 \n",
       "5  0.4509797818509   \n",
       "6  0.39229443535912  \n",
       "7  0.410105585330591 \n",
       "8  0.329611989689664 \n",
       "9  0.354288005359683 \n",
       "10 0.486155764564391 \n",
       "11 0.348435322995623 \n",
       "12 0.291248491056166 "
      ]
     },
     "metadata": {},
     "output_type": "display_data"
    },
    {
     "name": "stdout",
     "output_type": "stream",
     "text": [
      "[1] \"------------------Corr with Crime Rate. Log trans of crmrte---------------------\"\n"
     ]
    },
    {
     "data": {
      "text/html": [
       "<table>\n",
       "<thead><tr><th scope=col>var</th><th scope=col>lg</th><th scope=col>sq</th><th scope=col>sqt</th><th scope=col>none</th></tr></thead>\n",
       "<tbody>\n",
       "\t<tr><td>crmrte            </td><td>1                 </td><td>0.82581808440035  </td><td>0.983402742416995 </td><td>0.94155941652815  </td></tr>\n",
       "\t<tr><td>prbarr            </td><td>-0.435195743819109</td><td>-0.452151351230834</td><td>-0.458583884866793</td><td>-0.47138133260688 </td></tr>\n",
       "\t<tr><td>prbconv           </td><td>-0.37356092185561 </td><td>-0.417717922888421</td><td>-0.429771715930372</td><td>-0.446880475459404</td></tr>\n",
       "\t<tr><td>density           </td><td>0.493596527034902 </td><td>0.520974596124295 </td><td>0.68110686628769  </td><td>0.633650441803765 </td></tr>\n",
       "\t<tr><td>taxpc             </td><td>0.341856418221085 </td><td>0.344572481500381 </td><td>0.354361129677032 </td><td>0.360050785795018 </td></tr>\n",
       "\t<tr><td>wcon              </td><td>0.394724824485736 </td><td>0.388696387893254 </td><td>0.394482240903476 </td><td>0.393359273558206 </td></tr>\n",
       "\t<tr><td>wtrd              </td><td>0.376303882931544 </td><td>0.381697221655001 </td><td>0.378583284428582 </td><td>0.380309581524027 </td></tr>\n",
       "\t<tr><td>wfir              </td><td>0.283247741273896 </td><td>0.291556896045156 </td><td>0.286255867938031 </td><td>0.288595147782677 </td></tr>\n",
       "\t<tr><td>wmfg              </td><td>0.355277481858017 </td><td>0.251548771439684 </td><td>0.334449726114465 </td><td>0.308858712462574 </td></tr>\n",
       "\t<tr><td>wfed              </td><td>0.498380105956656 </td><td>0.537670713844459 </td><td>0.51006063479592  </td><td>0.520561570595515 </td></tr>\n",
       "\t<tr><td>wloc              </td><td>0.294649136901508 </td><td>0.263546201154229 </td><td>0.287785337668941 </td><td>0.280282576992293 </td></tr>\n",
       "\t<tr><td>pctymle           </td><td>0.31242104733822  </td><td>0.235794389929685 </td><td>0.297335385260795 </td><td>0.27888339420391  </td></tr>\n",
       "</tbody>\n",
       "</table>\n"
      ],
      "text/latex": [
       "\\begin{tabular}{r|lllll}\n",
       " var & lg & sq & sqt & none\\\\\n",
       "\\hline\n",
       "\t crmrte             & 1                  & 0.82581808440035   & 0.983402742416995  & 0.94155941652815  \\\\\n",
       "\t prbarr             & -0.435195743819109 & -0.452151351230834 & -0.458583884866793 & -0.47138133260688 \\\\\n",
       "\t prbconv            & -0.37356092185561  & -0.417717922888421 & -0.429771715930372 & -0.446880475459404\\\\\n",
       "\t density            & 0.493596527034902  & 0.520974596124295  & 0.68110686628769   & 0.633650441803765 \\\\\n",
       "\t taxpc              & 0.341856418221085  & 0.344572481500381  & 0.354361129677032  & 0.360050785795018 \\\\\n",
       "\t wcon               & 0.394724824485736  & 0.388696387893254  & 0.394482240903476  & 0.393359273558206 \\\\\n",
       "\t wtrd               & 0.376303882931544  & 0.381697221655001  & 0.378583284428582  & 0.380309581524027 \\\\\n",
       "\t wfir               & 0.283247741273896  & 0.291556896045156  & 0.286255867938031  & 0.288595147782677 \\\\\n",
       "\t wmfg               & 0.355277481858017  & 0.251548771439684  & 0.334449726114465  & 0.308858712462574 \\\\\n",
       "\t wfed               & 0.498380105956656  & 0.537670713844459  & 0.51006063479592   & 0.520561570595515 \\\\\n",
       "\t wloc               & 0.294649136901508  & 0.263546201154229  & 0.287785337668941  & 0.280282576992293 \\\\\n",
       "\t pctymle            & 0.31242104733822   & 0.235794389929685  & 0.297335385260795  & 0.27888339420391  \\\\\n",
       "\\end{tabular}\n"
      ],
      "text/markdown": [
       "\n",
       "var | lg | sq | sqt | none | \n",
       "|---|---|---|---|---|---|---|---|---|---|---|---|\n",
       "| crmrte             | 1                  | 0.82581808440035   | 0.983402742416995  | 0.94155941652815   | \n",
       "| prbarr             | -0.435195743819109 | -0.452151351230834 | -0.458583884866793 | -0.47138133260688  | \n",
       "| prbconv            | -0.37356092185561  | -0.417717922888421 | -0.429771715930372 | -0.446880475459404 | \n",
       "| density            | 0.493596527034902  | 0.520974596124295  | 0.68110686628769   | 0.633650441803765  | \n",
       "| taxpc              | 0.341856418221085  | 0.344572481500381  | 0.354361129677032  | 0.360050785795018  | \n",
       "| wcon               | 0.394724824485736  | 0.388696387893254  | 0.394482240903476  | 0.393359273558206  | \n",
       "| wtrd               | 0.376303882931544  | 0.381697221655001  | 0.378583284428582  | 0.380309581524027  | \n",
       "| wfir               | 0.283247741273896  | 0.291556896045156  | 0.286255867938031  | 0.288595147782677  | \n",
       "| wmfg               | 0.355277481858017  | 0.251548771439684  | 0.334449726114465  | 0.308858712462574  | \n",
       "| wfed               | 0.498380105956656  | 0.537670713844459  | 0.51006063479592   | 0.520561570595515  | \n",
       "| wloc               | 0.294649136901508  | 0.263546201154229  | 0.287785337668941  | 0.280282576992293  | \n",
       "| pctymle            | 0.31242104733822   | 0.235794389929685  | 0.297335385260795  | 0.27888339420391   | \n",
       "\n",
       "\n"
      ],
      "text/plain": [
       "   var     lg                 sq                 sqt               \n",
       "1  crmrte  1                  0.82581808440035   0.983402742416995 \n",
       "2  prbarr  -0.435195743819109 -0.452151351230834 -0.458583884866793\n",
       "3  prbconv -0.37356092185561  -0.417717922888421 -0.429771715930372\n",
       "4  density 0.493596527034902  0.520974596124295  0.68110686628769  \n",
       "5  taxpc   0.341856418221085  0.344572481500381  0.354361129677032 \n",
       "6  wcon    0.394724824485736  0.388696387893254  0.394482240903476 \n",
       "7  wtrd    0.376303882931544  0.381697221655001  0.378583284428582 \n",
       "8  wfir    0.283247741273896  0.291556896045156  0.286255867938031 \n",
       "9  wmfg    0.355277481858017  0.251548771439684  0.334449726114465 \n",
       "10 wfed    0.498380105956656  0.537670713844459  0.51006063479592  \n",
       "11 wloc    0.294649136901508  0.263546201154229  0.287785337668941 \n",
       "12 pctymle 0.31242104733822   0.235794389929685  0.297335385260795 \n",
       "   none              \n",
       "1  0.94155941652815  \n",
       "2  -0.47138133260688 \n",
       "3  -0.446880475459404\n",
       "4  0.633650441803765 \n",
       "5  0.360050785795018 \n",
       "6  0.393359273558206 \n",
       "7  0.380309581524027 \n",
       "8  0.288595147782677 \n",
       "9  0.308858712462574 \n",
       "10 0.520561570595515 \n",
       "11 0.280282576992293 \n",
       "12 0.27888339420391  "
      ]
     },
     "metadata": {},
     "output_type": "display_data"
    },
    {
     "name": "stdout",
     "output_type": "stream",
     "text": [
      "[1] \"------------------Corr with Crime Rate. Square Trans of crmrte---------------------\"\n"
     ]
    },
    {
     "data": {
      "text/html": [
       "<table>\n",
       "<thead><tr><th scope=col>var</th><th scope=col>lg</th><th scope=col>sq</th><th scope=col>sqt</th><th scope=col>none</th></tr></thead>\n",
       "<tbody>\n",
       "\t<tr><td>crmrte            </td><td>0.82581808440035  </td><td>1                 </td><td>0.908891866329352 </td><td>0.963314447688739 </td></tr>\n",
       "\t<tr><td>prbarr            </td><td>-0.392307364320665</td><td>-0.244527052834584</td><td>-0.370774526245122</td><td>-0.336415556641826</td></tr>\n",
       "\t<tr><td>prbconv           </td><td>-0.332915289178236</td><td>-0.25677638647799 </td><td>-0.340763624063169</td><td>-0.321304760441234</td></tr>\n",
       "\t<tr><td>density           </td><td>0.425754280086151 </td><td>0.739296908890496 </td><td>0.717924635162036 </td><td>0.753822678425409 </td></tr>\n",
       "\t<tr><td>taxpc             </td><td>0.453149701355062 </td><td>0.494619036717848 </td><td>0.48110566503104  </td><td>0.499453249054686 </td></tr>\n",
       "\t<tr><td>wcon              </td><td>0.35460902337128  </td><td>0.397454418212015 </td><td>0.365713604636538 </td><td>0.376582703990497 </td></tr>\n",
       "\t<tr><td>wtrd              </td><td>0.382995977431548 </td><td>0.443658339208963 </td><td>0.397963929150082 </td><td>0.413232325590036 </td></tr>\n",
       "\t<tr><td>wfir              </td><td>0.318935779686677 </td><td>0.371969143290673 </td><td>0.333598634129723 </td><td>0.347279847367517 </td></tr>\n",
       "\t<tr><td>wmfg              </td><td>0.373402608684893 </td><td>0.325039917686523 </td><td>0.369149193807379 </td><td>0.358783456764925 </td></tr>\n",
       "\t<tr><td>wfed              </td><td>0.380648994427888 </td><td>0.448305156584695 </td><td>0.398535168304697 </td><td>0.41587540695076  </td></tr>\n",
       "\t<tr><td>wloc              </td><td>0.349692633274681 </td><td>0.350620521031438 </td><td>0.350939146391495 </td><td>0.351500540350758 </td></tr>\n",
       "\t<tr><td>pctymle           </td><td>0.294385229646093 </td><td>0.217595054143318 </td><td>0.280503978888829 </td><td>0.262378460036068 </td></tr>\n",
       "</tbody>\n",
       "</table>\n"
      ],
      "text/latex": [
       "\\begin{tabular}{r|lllll}\n",
       " var & lg & sq & sqt & none\\\\\n",
       "\\hline\n",
       "\t crmrte             & 0.82581808440035   & 1                  & 0.908891866329352  & 0.963314447688739 \\\\\n",
       "\t prbarr             & -0.392307364320665 & -0.244527052834584 & -0.370774526245122 & -0.336415556641826\\\\\n",
       "\t prbconv            & -0.332915289178236 & -0.25677638647799  & -0.340763624063169 & -0.321304760441234\\\\\n",
       "\t density            & 0.425754280086151  & 0.739296908890496  & 0.717924635162036  & 0.753822678425409 \\\\\n",
       "\t taxpc              & 0.453149701355062  & 0.494619036717848  & 0.48110566503104   & 0.499453249054686 \\\\\n",
       "\t wcon               & 0.35460902337128   & 0.397454418212015  & 0.365713604636538  & 0.376582703990497 \\\\\n",
       "\t wtrd               & 0.382995977431548  & 0.443658339208963  & 0.397963929150082  & 0.413232325590036 \\\\\n",
       "\t wfir               & 0.318935779686677  & 0.371969143290673  & 0.333598634129723  & 0.347279847367517 \\\\\n",
       "\t wmfg               & 0.373402608684893  & 0.325039917686523  & 0.369149193807379  & 0.358783456764925 \\\\\n",
       "\t wfed               & 0.380648994427888  & 0.448305156584695  & 0.398535168304697  & 0.41587540695076  \\\\\n",
       "\t wloc               & 0.349692633274681  & 0.350620521031438  & 0.350939146391495  & 0.351500540350758 \\\\\n",
       "\t pctymle            & 0.294385229646093  & 0.217595054143318  & 0.280503978888829  & 0.262378460036068 \\\\\n",
       "\\end{tabular}\n"
      ],
      "text/markdown": [
       "\n",
       "var | lg | sq | sqt | none | \n",
       "|---|---|---|---|---|---|---|---|---|---|---|---|\n",
       "| crmrte             | 0.82581808440035   | 1                  | 0.908891866329352  | 0.963314447688739  | \n",
       "| prbarr             | -0.392307364320665 | -0.244527052834584 | -0.370774526245122 | -0.336415556641826 | \n",
       "| prbconv            | -0.332915289178236 | -0.25677638647799  | -0.340763624063169 | -0.321304760441234 | \n",
       "| density            | 0.425754280086151  | 0.739296908890496  | 0.717924635162036  | 0.753822678425409  | \n",
       "| taxpc              | 0.453149701355062  | 0.494619036717848  | 0.48110566503104   | 0.499453249054686  | \n",
       "| wcon               | 0.35460902337128   | 0.397454418212015  | 0.365713604636538  | 0.376582703990497  | \n",
       "| wtrd               | 0.382995977431548  | 0.443658339208963  | 0.397963929150082  | 0.413232325590036  | \n",
       "| wfir               | 0.318935779686677  | 0.371969143290673  | 0.333598634129723  | 0.347279847367517  | \n",
       "| wmfg               | 0.373402608684893  | 0.325039917686523  | 0.369149193807379  | 0.358783456764925  | \n",
       "| wfed               | 0.380648994427888  | 0.448305156584695  | 0.398535168304697  | 0.41587540695076   | \n",
       "| wloc               | 0.349692633274681  | 0.350620521031438  | 0.350939146391495  | 0.351500540350758  | \n",
       "| pctymle            | 0.294385229646093  | 0.217595054143318  | 0.280503978888829  | 0.262378460036068  | \n",
       "\n",
       "\n"
      ],
      "text/plain": [
       "   var     lg                 sq                 sqt               \n",
       "1  crmrte  0.82581808440035   1                  0.908891866329352 \n",
       "2  prbarr  -0.392307364320665 -0.244527052834584 -0.370774526245122\n",
       "3  prbconv -0.332915289178236 -0.25677638647799  -0.340763624063169\n",
       "4  density 0.425754280086151  0.739296908890496  0.717924635162036 \n",
       "5  taxpc   0.453149701355062  0.494619036717848  0.48110566503104  \n",
       "6  wcon    0.35460902337128   0.397454418212015  0.365713604636538 \n",
       "7  wtrd    0.382995977431548  0.443658339208963  0.397963929150082 \n",
       "8  wfir    0.318935779686677  0.371969143290673  0.333598634129723 \n",
       "9  wmfg    0.373402608684893  0.325039917686523  0.369149193807379 \n",
       "10 wfed    0.380648994427888  0.448305156584695  0.398535168304697 \n",
       "11 wloc    0.349692633274681  0.350620521031438  0.350939146391495 \n",
       "12 pctymle 0.294385229646093  0.217595054143318  0.280503978888829 \n",
       "   none              \n",
       "1  0.963314447688739 \n",
       "2  -0.336415556641826\n",
       "3  -0.321304760441234\n",
       "4  0.753822678425409 \n",
       "5  0.499453249054686 \n",
       "6  0.376582703990497 \n",
       "7  0.413232325590036 \n",
       "8  0.347279847367517 \n",
       "9  0.358783456764925 \n",
       "10 0.41587540695076  \n",
       "11 0.351500540350758 \n",
       "12 0.262378460036068 "
      ]
     },
     "metadata": {},
     "output_type": "display_data"
    },
    {
     "name": "stdout",
     "output_type": "stream",
     "text": [
      "[1] \"------------------Corr with Crime Rate. SQRT Trans of crmrte---------------------\"\n"
     ]
    },
    {
     "data": {
      "text/html": [
       "<table>\n",
       "<thead><tr><th scope=col>var</th><th scope=col>lg</th><th scope=col>sq</th><th scope=col>sqt</th><th scope=col>none</th></tr></thead>\n",
       "<tbody>\n",
       "\t<tr><td>crmrte            </td><td>0.983402742416995 </td><td>0.908891866329352 </td><td>1                 </td><td>0.986585485007721 </td></tr>\n",
       "\t<tr><td>prbarr            </td><td>-0.428853144818603</td><td>-0.377405751773552</td><td>-0.435035973884427</td><td>-0.4288556077934  </td></tr>\n",
       "\t<tr><td>prbconv           </td><td>-0.372454606420181</td><td>-0.374409304618894</td><td>-0.413806497072104</td><td>-0.418305461834107</td></tr>\n",
       "\t<tr><td>density           </td><td>0.493488003542832 </td><td>0.597989175801448 </td><td>0.718591754803244 </td><td>0.691747794431379 </td></tr>\n",
       "\t<tr><td>taxpc             </td><td>0.382756178938766 </td><td>0.398040449985126 </td><td>0.400385015589278 </td><td>0.410210182611733 </td></tr>\n",
       "\t<tr><td>wcon              </td><td>0.390394399570365 </td><td>0.398594517634809 </td><td>0.393625604136896 </td><td>0.396050357845887 </td></tr>\n",
       "\t<tr><td>wtrd              </td><td>0.390039563747317 </td><td>0.40918239775622  </td><td>0.395545079473709 </td><td>0.400667352070585 </td></tr>\n",
       "\t<tr><td>wfir              </td><td>0.30169755492931  </td><td>0.321352885331649 </td><td>0.307822347873119 </td><td>0.313086526634286 </td></tr>\n",
       "\t<tr><td>wmfg              </td><td>0.378798047014416 </td><td>0.284901790345843 </td><td>0.361510635480353 </td><td>0.338798716790089 </td></tr>\n",
       "\t<tr><td>wfed              </td><td>0.484960991105009 </td><td>0.535248201036715 </td><td>0.499215922125637 </td><td>0.512424244241738 </td></tr>\n",
       "\t<tr><td>wloc              </td><td>0.335497080008982 </td><td>0.313766736482347 </td><td>0.331082780645486 </td><td>0.325964171245902 </td></tr>\n",
       "\t<tr><td>pctymle           </td><td>0.325431491130904 </td><td>0.246550698458356 </td><td>0.310362612665254 </td><td>0.291511539640238 </td></tr>\n",
       "</tbody>\n",
       "</table>\n"
      ],
      "text/latex": [
       "\\begin{tabular}{r|lllll}\n",
       " var & lg & sq & sqt & none\\\\\n",
       "\\hline\n",
       "\t crmrte             & 0.983402742416995  & 0.908891866329352  & 1                  & 0.986585485007721 \\\\\n",
       "\t prbarr             & -0.428853144818603 & -0.377405751773552 & -0.435035973884427 & -0.4288556077934  \\\\\n",
       "\t prbconv            & -0.372454606420181 & -0.374409304618894 & -0.413806497072104 & -0.418305461834107\\\\\n",
       "\t density            & 0.493488003542832  & 0.597989175801448  & 0.718591754803244  & 0.691747794431379 \\\\\n",
       "\t taxpc              & 0.382756178938766  & 0.398040449985126  & 0.400385015589278  & 0.410210182611733 \\\\\n",
       "\t wcon               & 0.390394399570365  & 0.398594517634809  & 0.393625604136896  & 0.396050357845887 \\\\\n",
       "\t wtrd               & 0.390039563747317  & 0.40918239775622   & 0.395545079473709  & 0.400667352070585 \\\\\n",
       "\t wfir               & 0.30169755492931   & 0.321352885331649  & 0.307822347873119  & 0.313086526634286 \\\\\n",
       "\t wmfg               & 0.378798047014416  & 0.284901790345843  & 0.361510635480353  & 0.338798716790089 \\\\\n",
       "\t wfed               & 0.484960991105009  & 0.535248201036715  & 0.499215922125637  & 0.512424244241738 \\\\\n",
       "\t wloc               & 0.335497080008982  & 0.313766736482347  & 0.331082780645486  & 0.325964171245902 \\\\\n",
       "\t pctymle            & 0.325431491130904  & 0.246550698458356  & 0.310362612665254  & 0.291511539640238 \\\\\n",
       "\\end{tabular}\n"
      ],
      "text/markdown": [
       "\n",
       "var | lg | sq | sqt | none | \n",
       "|---|---|---|---|---|---|---|---|---|---|---|---|\n",
       "| crmrte             | 0.983402742416995  | 0.908891866329352  | 1                  | 0.986585485007721  | \n",
       "| prbarr             | -0.428853144818603 | -0.377405751773552 | -0.435035973884427 | -0.4288556077934   | \n",
       "| prbconv            | -0.372454606420181 | -0.374409304618894 | -0.413806497072104 | -0.418305461834107 | \n",
       "| density            | 0.493488003542832  | 0.597989175801448  | 0.718591754803244  | 0.691747794431379  | \n",
       "| taxpc              | 0.382756178938766  | 0.398040449985126  | 0.400385015589278  | 0.410210182611733  | \n",
       "| wcon               | 0.390394399570365  | 0.398594517634809  | 0.393625604136896  | 0.396050357845887  | \n",
       "| wtrd               | 0.390039563747317  | 0.40918239775622   | 0.395545079473709  | 0.400667352070585  | \n",
       "| wfir               | 0.30169755492931   | 0.321352885331649  | 0.307822347873119  | 0.313086526634286  | \n",
       "| wmfg               | 0.378798047014416  | 0.284901790345843  | 0.361510635480353  | 0.338798716790089  | \n",
       "| wfed               | 0.484960991105009  | 0.535248201036715  | 0.499215922125637  | 0.512424244241738  | \n",
       "| wloc               | 0.335497080008982  | 0.313766736482347  | 0.331082780645486  | 0.325964171245902  | \n",
       "| pctymle            | 0.325431491130904  | 0.246550698458356  | 0.310362612665254  | 0.291511539640238  | \n",
       "\n",
       "\n"
      ],
      "text/plain": [
       "   var     lg                 sq                 sqt               \n",
       "1  crmrte  0.983402742416995  0.908891866329352  1                 \n",
       "2  prbarr  -0.428853144818603 -0.377405751773552 -0.435035973884427\n",
       "3  prbconv -0.372454606420181 -0.374409304618894 -0.413806497072104\n",
       "4  density 0.493488003542832  0.597989175801448  0.718591754803244 \n",
       "5  taxpc   0.382756178938766  0.398040449985126  0.400385015589278 \n",
       "6  wcon    0.390394399570365  0.398594517634809  0.393625604136896 \n",
       "7  wtrd    0.390039563747317  0.40918239775622   0.395545079473709 \n",
       "8  wfir    0.30169755492931   0.321352885331649  0.307822347873119 \n",
       "9  wmfg    0.378798047014416  0.284901790345843  0.361510635480353 \n",
       "10 wfed    0.484960991105009  0.535248201036715  0.499215922125637 \n",
       "11 wloc    0.335497080008982  0.313766736482347  0.331082780645486 \n",
       "12 pctymle 0.325431491130904  0.246550698458356  0.310362612665254 \n",
       "   none              \n",
       "1  0.986585485007721 \n",
       "2  -0.4288556077934  \n",
       "3  -0.418305461834107\n",
       "4  0.691747794431379 \n",
       "5  0.410210182611733 \n",
       "6  0.396050357845887 \n",
       "7  0.400667352070585 \n",
       "8  0.313086526634286 \n",
       "9  0.338798716790089 \n",
       "10 0.512424244241738 \n",
       "11 0.325964171245902 \n",
       "12 0.291511539640238 "
      ]
     },
     "metadata": {},
     "output_type": "display_data"
    }
   ],
   "source": [
    "#tdata <- data.frame(matrix(ncol = 12, nrow = 0))\n",
    "cols <- c(\"crmrte\", \"prbarr\", \"prbconv\", \"density\", \"taxpc\", \"wcon\", \"wtrd\", \"wfir\", \"wmfg\", \"wfed\", \"wloc\", \"pctymle\")\n",
    "#colnames(tdata) <- cols\n",
    "\n",
    "#for(ops in c('', 'lg', 'sq', 'sqt')){\n",
    "print('------------------Corr with Crime Rate. No trans of crmrte---------------------')\n",
    "   \n",
    "list_data <- list(cols, getLogTran(cdata, cols, 'lg', ''), \n",
    "                  getLogTran(cdata, cols, 'sq', ''), getLogTran(cdata, cols, 'sqt', ''), getLogTran(cdata, cols, '', ''))\n",
    "\n",
    "tdata  <-  as.data.frame(matrix(unlist(list_data), nrow=length(unlist(list_data[1]))))\n",
    "colnames(tdata) <- c(\"var\", \"lg\", \"sq\", \"sqt\", \"none\")\n",
    "tdata\n",
    "\n",
    "print('------------------Corr with Crime Rate. Log trans of crmrte---------------------')\n",
    "\n",
    "list_data <- list(cols, getLogTran(cdata, cols, 'lg', 'lg'), \n",
    "                  getLogTran(cdata, cols, 'sq', 'lg'), \n",
    "                  getLogTran(cdata, cols, 'sqt', 'lg'), \n",
    "                  getLogTran(cdata, cols, '', 'lg'))\n",
    "\n",
    "tdata  <-  as.data.frame(matrix(unlist(list_data), nrow=length(unlist(list_data[1]))))\n",
    "colnames(tdata) <- c(\"var\", \"lg\", \"sq\", \"sqt\", \"none\")\n",
    "tdata\n",
    "\n",
    "print('------------------Corr with Crime Rate. Square Trans of crmrte---------------------')\n",
    "\n",
    "\n",
    "list_data <- list(cols, getLogTran(cdata, cols, 'lg', 'sq'), \n",
    "                  getLogTran(cdata, cols, 'sq', 'sq'), \n",
    "                  getLogTran(cdata, cols, 'sqt', 'sq'), \n",
    "                  getLogTran(cdata, cols, '', 'sq'))\n",
    "\n",
    "tdata  <-  as.data.frame(matrix(unlist(list_data), nrow=length(unlist(list_data[1]))))\n",
    "colnames(tdata) <- c(\"var\", \"lg\", \"sq\", \"sqt\", \"none\")\n",
    "tdata\n",
    "\n",
    "print('------------------Corr with Crime Rate. SQRT Trans of crmrte---------------------')\n",
    "\n",
    "\n",
    "list_data <- list(cols, getLogTran(cdata, cols, 'lg', 'sqt'), \n",
    "                  getLogTran(cdata, cols, 'sq', 'sqt'), \n",
    "                  getLogTran(cdata, cols, 'sqt', 'sqt'), \n",
    "                  getLogTran(cdata, cols, '', 'sqt'))\n",
    "\n",
    "tdata  <-  as.data.frame(matrix(unlist(list_data), nrow=length(unlist(list_data[1]))))\n",
    "colnames(tdata) <- c(\"var\", \"lg\", \"sq\", \"sqt\", \"none\")\n",
    "tdata\n"
   ]
  },
  {
   "cell_type": "markdown",
   "metadata": {},
   "source": [
    "### Model Creation"
   ]
  },
  {
   "cell_type": "markdown",
   "metadata": {},
   "source": [
    "### Model 1"
   ]
  },
  {
   "cell_type": "code",
   "execution_count": 14,
   "metadata": {},
   "outputs": [
    {
     "data": {
      "text/plain": [
       "\n",
       "Call:\n",
       "lm(formula = crmrte ~ density + pctymle + prbconv + prbarr + \n",
       "    taxpc, data = cdata)\n",
       "\n",
       "Coefficients:\n",
       "(Intercept)      density      pctymle      prbconv       prbarr        taxpc  \n",
       "  0.0117589    0.0065177    0.1489191   -0.0115085   -0.0248206    0.0003545  \n"
      ]
     },
     "metadata": {},
     "output_type": "display_data"
    },
    {
     "data": {
      "text/plain": [
       "\n",
       "Call:\n",
       "lm(formula = crmrte ~ density + pctymle + prbconv + prbarr + \n",
       "    taxpc, data = cdata)\n",
       "\n",
       "Residuals:\n",
       "      Min        1Q    Median        3Q       Max \n",
       "-0.022522 -0.005880 -0.001674  0.004811  0.037774 \n",
       "\n",
       "Coefficients:\n",
       "              Estimate Std. Error t value Pr(>|t|)    \n",
       "(Intercept)  1.176e-02  7.585e-03   1.550 0.124800    \n",
       "density      6.518e-03  8.320e-04   7.834 1.22e-11 ***\n",
       "pctymle      1.489e-01  4.996e-02   2.981 0.003750 ** \n",
       "prbconv     -1.151e-02  3.337e-03  -3.448 0.000879 ***\n",
       "prbarr      -2.482e-02  8.775e-03  -2.829 0.005829 ** \n",
       "taxpc        3.545e-04  9.141e-05   3.878 0.000207 ***\n",
       "---\n",
       "Signif. codes:  0 '***' 0.001 '**' 0.01 '*' 0.05 '.' 0.1 ' ' 1\n",
       "\n",
       "Residual standard error: 0.01057 on 85 degrees of freedom\n",
       "Multiple R-squared:  0.7017,\tAdjusted R-squared:  0.6841 \n",
       "F-statistic: 39.99 on 5 and 85 DF,  p-value: < 2.2e-16\n"
      ]
     },
     "metadata": {},
     "output_type": "display_data"
    },
    {
     "data": {
      "text/html": [
       "-561.979245921144"
      ],
      "text/latex": [
       "-561.979245921144"
      ],
      "text/markdown": [
       "-561.979245921144"
      ],
      "text/plain": [
       "[1] -561.9792"
      ]
     },
     "metadata": {},
     "output_type": "display_data"
    },
    {
     "data": {
      "image/png": "[encoded data removed]",
      "text/plain": [
       "plot without title"
      ]
     },
     "metadata": {},
     "output_type": "display_data"
    }
   ],
   "source": [
    "plot(jitter(cdata$density), jitter(cdata$crmrte))\n",
    "(model1 <- lm(crmrte ~ density + pctymle + prbconv + prbarr + taxpc, data = cdata))\n",
    "abline(model1)\n",
    "summary(model1)\n",
    "AIC(model1)"
   ]
  },
  {
   "cell_type": "markdown",
   "metadata": {},
   "source": [
    "### residuals vs. leverage plot"
   ]
  },
  {
   "cell_type": "code",
   "execution_count": 15,
   "metadata": {},
   "outputs": [
    {
     "data": {
      "image/png": "[encoded data removed]",
      "text/plain": [
       "Plot with title \"\""
      ]
     },
     "metadata": {},
     "output_type": "display_data"
    }
   ],
   "source": [
    "plot(model1, which = 5)"
   ]
  },
  {
   "cell_type": "markdown",
   "metadata": {},
   "source": [
    "Cook's distance is more than 1. So, concern about outliers?"
   ]
  },
  {
   "cell_type": "markdown",
   "metadata": {},
   "source": [
    "### Model2"
   ]
  },
  {
   "cell_type": "markdown",
   "metadata": {},
   "source": [
    "#### TODO - Select tranformation according to the above table"
   ]
  },
  {
   "cell_type": "code",
   "execution_count": 16,
   "metadata": {},
   "outputs": [
    {
     "data": {
      "text/plain": [
       "\n",
       "Call:\n",
       "lm(formula = crmrte ~ ., data = cdata)\n",
       "\n",
       "Coefficients:\n",
       "(Intercept)       county         year       prbarr      prbconv      prbpris  \n",
       "  1.393e-02    9.434e-06           NA   -5.124e-02   -1.876e-02    3.807e-03  \n",
       "     avgsen        polpc      density        taxpc         west      central  \n",
       " -3.914e-04    6.868e+00    5.291e-03    1.668e-04   -2.664e-03   -4.189e-03  \n",
       "      urban     pctmin80         wcon         wtuc         wtrd         wfir  \n",
       "  2.688e-04    3.206e-04    2.131e-05    5.507e-06    2.710e-05   -3.492e-05  \n",
       "       wser         wmfg         wfed         wsta         wloc          mix  \n",
       " -1.975e-06   -8.520e-06    3.032e-05   -2.450e-05    1.452e-05   -1.853e-02  \n",
       "    pctymle  \n",
       "  9.964e-02  \n"
      ]
     },
     "metadata": {},
     "output_type": "display_data"
    },
    {
     "data": {
      "text/plain": [
       "\n",
       "Call:\n",
       "lm(formula = crmrte ~ ., data = cdata)\n",
       "\n",
       "Residuals:\n",
       "       Min         1Q     Median         3Q        Max \n",
       "-0.0169230 -0.0038296 -0.0005398  0.0044438  0.0220882 \n",
       "\n",
       "Coefficients: (1 not defined because of singularities)\n",
       "              Estimate Std. Error t value Pr(>|t|)    \n",
       "(Intercept)  1.393e-02  1.946e-02   0.715 0.476851    \n",
       "county       9.434e-06  1.578e-05   0.598 0.551903    \n",
       "year                NA         NA      NA       NA    \n",
       "prbarr      -5.124e-02  9.835e-03  -5.209 1.97e-06 ***\n",
       "prbconv     -1.876e-02  3.764e-03  -4.983 4.66e-06 ***\n",
       "prbpris      3.807e-03  1.198e-02   0.318 0.751626    \n",
       "avgsen      -3.914e-04  4.098e-04  -0.955 0.343029    \n",
       "polpc        6.868e+00  1.545e+00   4.445 3.39e-05 ***\n",
       "density      5.291e-03  1.345e-03   3.932 0.000202 ***\n",
       "taxpc        1.668e-04  9.587e-05   1.740 0.086412 .  \n",
       "west        -2.664e-03  3.819e-03  -0.698 0.487852    \n",
       "central     -4.189e-03  2.764e-03  -1.515 0.134356    \n",
       "urban        2.688e-04  6.144e-03   0.044 0.965226    \n",
       "pctmin80     3.206e-04  9.263e-05   3.461 0.000941 ***\n",
       "wcon         2.131e-05  2.761e-05   0.772 0.442894    \n",
       "wtuc         5.507e-06  1.508e-05   0.365 0.716103    \n",
       "wtrd         2.710e-05  4.548e-05   0.596 0.553206    \n",
       "wfir        -3.492e-05  2.708e-05  -1.289 0.201696    \n",
       "wser        -1.975e-06  5.678e-06  -0.348 0.729124    \n",
       "wmfg        -8.520e-06  1.416e-05  -0.602 0.549325    \n",
       "wfed         3.032e-05  2.556e-05   1.186 0.239700    \n",
       "wsta        -2.450e-05  2.615e-05  -0.937 0.352215    \n",
       "wloc         1.452e-05  4.805e-05   0.302 0.763409    \n",
       "mix         -1.853e-02  1.464e-02  -1.266 0.210010    \n",
       "pctymle      9.964e-02  4.529e-02   2.200 0.031254 *  \n",
       "---\n",
       "Signif. codes:  0 '***' 0.001 '**' 0.01 '*' 0.05 '.' 0.1 ' ' 1\n",
       "\n",
       "Residual standard error: 0.00828 on 67 degrees of freedom\n",
       "Multiple R-squared:  0.8558,\tAdjusted R-squared:  0.8063 \n",
       "F-statistic: 17.28 on 23 and 67 DF,  p-value: < 2.2e-16\n"
      ]
     },
     "metadata": {},
     "output_type": "display_data"
    },
    {
     "data": {
      "text/html": [
       "-592.109146051626"
      ],
      "text/latex": [
       "-592.109146051626"
      ],
      "text/markdown": [
       "-592.109146051626"
      ],
      "text/plain": [
       "[1] -592.1091"
      ]
     },
     "metadata": {},
     "output_type": "display_data"
    }
   ],
   "source": [
    "#plot(jitter(cdata$prbconv), jitter(cdata$crmrte))\n",
    "(model2 <- lm(crmrte ~ ., data = cdata))\n",
    "#abline(model2)\n",
    "summary(model2)\n",
    "AIC(model2)"
   ]
  },
  {
   "cell_type": "markdown",
   "metadata": {},
   "source": [
    "### Model 3"
   ]
  },
  {
   "cell_type": "markdown",
   "metadata": {},
   "source": [
    "**Omitting Variables Bias**\n",
    "\n",
    "The dependent variables influence each other and those positive or negative bias is captured by the error term. Now, assumption of the regressor states that the error term should not have significant correlation with the dependent variable.\n",
    "\n",
    "**If the following condition satifies, it is safe to omit variable**\n",
    "\n",
    "The condition E(ui|Xi)=0E(ui|Xi)=0 <br>\n",
    "X is **Not** correlated with the omitted variable. <br> \n",
    "The omitted variable is **Not** a determinant of the dependent variable Y. "
   ]
  },
  {
   "cell_type": "code",
   "execution_count": 17,
   "metadata": {},
   "outputs": [
    {
     "data": {
      "text/plain": [
       "\n",
       "Call:\n",
       "lm(formula = crmrte ~ density + prbconv, data = cdata)\n",
       "\n",
       "Coefficients:\n",
       "(Intercept)      density      prbconv  \n",
       "   0.028245     0.008399    -0.012418  \n"
      ]
     },
     "metadata": {},
     "output_type": "display_data"
    },
    {
     "data": {
      "text/html": [
       "<dl class=dl-horizontal>\n",
       "\t<dt>(Intercept)</dt>\n",
       "\t\t<dd>0.0282451886690679</dd>\n",
       "\t<dt>density</dt>\n",
       "\t\t<dd>0.00839882775694445</dd>\n",
       "\t<dt>prbconv</dt>\n",
       "\t\t<dd>-0.0124175199667309</dd>\n",
       "</dl>\n"
      ],
      "text/latex": [
       "\\begin{description*}\n",
       "\\item[(Intercept)] 0.0282451886690679\n",
       "\\item[density] 0.00839882775694445\n",
       "\\item[prbconv] -0.0124175199667309\n",
       "\\end{description*}\n"
      ],
      "text/markdown": [
       "(Intercept)\n",
       ":   0.0282451886690679density\n",
       ":   0.00839882775694445prbconv\n",
       ":   -0.0124175199667309\n",
       "\n"
      ],
      "text/plain": [
       " (Intercept)      density      prbconv \n",
       " 0.028245189  0.008398828 -0.012417520 "
      ]
     },
     "metadata": {},
     "output_type": "display_data"
    },
    {
     "data": {
      "text/plain": [
       "\n",
       "Call:\n",
       "lm(formula = crmrte ~ density + prbconv, data = cdata)\n",
       "\n",
       "Residuals:\n",
       "      Min        1Q    Median        3Q       Max \n",
       "-0.017924 -0.008001 -0.002455  0.005180  0.049056 \n",
       "\n",
       "Coefficients:\n",
       "              Estimate Std. Error t value Pr(>|t|)    \n",
       "(Intercept)  0.0282452  0.0029586   9.547 3.07e-15 ***\n",
       "density      0.0083988  0.0008783   9.563 2.84e-15 ***\n",
       "prbconv     -0.0124175  0.0037761  -3.288  0.00145 ** \n",
       "---\n",
       "Signif. codes:  0 '***' 0.001 '**' 0.01 '*' 0.05 '.' 0.1 ' ' 1\n",
       "\n",
       "Residual standard error: 0.01229 on 88 degrees of freedom\n",
       "Multiple R-squared:  0.5827,\tAdjusted R-squared:  0.5732 \n",
       "F-statistic: 61.43 on 2 and 88 DF,  p-value: < 2.2e-16\n"
      ]
     },
     "metadata": {},
     "output_type": "display_data"
    },
    {
     "data": {
      "text/html": [
       "-537.425830547559"
      ],
      "text/latex": [
       "-537.425830547559"
      ],
      "text/markdown": [
       "-537.425830547559"
      ],
      "text/plain": [
       "[1] -537.4258"
      ]
     },
     "metadata": {},
     "output_type": "display_data"
    }
   ],
   "source": [
    "(model3 = lm(crmrte ~ density + prbconv, data = cdata))\n",
    "model3$coefficients\n",
    "summary(model3)\n",
    "AIC(model3)"
   ]
  },
  {
   "cell_type": "code",
   "execution_count": 28,
   "metadata": {},
   "outputs": [
    {
     "name": "stdout",
     "output_type": "stream",
     "text": [
      "\n",
      "Linear Models of Crime Rates\n",
      "===================================\n",
      "              Dependent variable:  \n",
      "             ----------------------\n",
      "                     crmrte        \n",
      "              (1)     (2)     (3)  \n",
      "-----------------------------------\n",
      "county              0.00001        \n",
      "                                   \n",
      "year                               \n",
      "                                   \n",
      "density      0.007   0.005   0.008 \n",
      "                                   \n",
      "pctymle      0.149   0.100         \n",
      "                                   \n",
      "prbconv      -0.012  -0.019  -0.012\n",
      "                                   \n",
      "prbpris              0.004         \n",
      "                                   \n",
      "avgsen              -0.0004        \n",
      "                                   \n",
      "polpc                6.868         \n",
      "                                   \n",
      "prbarr       -0.025  -0.051        \n",
      "                                   \n",
      "taxpc        0.0004  0.0002        \n",
      "                                   \n",
      "west                 -0.003        \n",
      "                                   \n",
      "central              -0.004        \n",
      "                                   \n",
      "urban                0.0003        \n",
      "                                   \n",
      "pctmin80             0.0003        \n",
      "                                   \n",
      "wcon                0.00002        \n",
      "                                   \n",
      "wtuc                0.00001        \n",
      "                                   \n",
      "wtrd                0.00003        \n",
      "                                   \n",
      "wfir                -0.00003       \n",
      "                                   \n",
      "wser                -0.00000       \n",
      "                                   \n",
      "wmfg                -0.00001       \n",
      "                                   \n",
      "wfed                0.00003        \n",
      "                                   \n",
      "wsta                -0.00002       \n",
      "                                   \n",
      "wloc                0.00001        \n",
      "                                   \n",
      "mix                  -0.019        \n",
      "                                   \n",
      "Constant     0.012   0.014   0.028 \n",
      "                                   \n",
      "-----------------------------------\n",
      "Observations   91      91      91  \n",
      "R2           0.702   0.856   0.583 \n",
      "===================================\n"
     ]
    }
   ],
   "source": [
    "library(stargazer)\n",
    "\n",
    "stargazer(model1, model2, model3, type = \"text\", \n",
    "          report = \"vc\", # Don't report errors, since we haven't covered them\n",
    "          title = \"Linear Models of Crime Rates\",\n",
    "          keep.stat = c(\"rsq\", \"n\"),\n",
    "          omit.table.layout = \"n\") # Omit more output related to errors\n"
   ]
  },
  {
   "cell_type": "markdown",
   "metadata": {},
   "source": [
    "### Appendex"
   ]
  },
  {
   "cell_type": "code",
   "execution_count": 8,
   "metadata": {},
   "outputs": [],
   "source": [
    "getLogTran <- function(df, cols, tranType, tranTypeDep){\n",
    "    corList <- list()\n",
    "    \n",
    "    for(coln in cols){\n",
    "               \n",
    "        if(tranType == ''){\n",
    "          corList <- append(corList, cor(df[[coln]], tranVar(df$crmrte, tranTypeDep)))   \n",
    "            \n",
    "        }else{\n",
    "            \n",
    "          newColN <- paste(coln, tranType, sep=\"_\")\n",
    "          df[[newColN]] <- tranVar(df[[coln]], tranType)    \n",
    "          corList <- append(corList, cor(df[[newColN]], tranVar(df$crmrte, tranTypeDep)))              \n",
    "      }        \n",
    "        \n",
    "    }\n",
    "    \n",
    "    return (corList)\n",
    "}\n",
    "    \n",
    "tranVar <- function(var1, tranType){\n",
    "    if(tranType == 'lg'){\n",
    "        return (log(var1))\n",
    "    } else if(tranType == 'sq'){\n",
    "        return (var1^2)\n",
    "    } else if(tranType == 'sqt'){\n",
    "        return (sqrt(var1))\n",
    "    } else {\n",
    "        return (var1)\n",
    "    }\n",
    "}"
   ]
  },
  {
   "cell_type": "code",
   "execution_count": null,
   "metadata": {},
   "outputs": [],
   "source": []
  }
 ],
 "metadata": {
  "kernelspec": {
   "display_name": "R",
   "language": "R",
   "name": "ir"
  },
  "language_info": {
   "codemirror_mode": "r",
   "file_extension": ".r",
   "mimetype": "text/x-r-source",
   "name": "R",
   "pygments_lexer": "r",
   "version": "3.5.1"
  }
 },
 "nbformat": 4,
 "nbformat_minor": 2
}
