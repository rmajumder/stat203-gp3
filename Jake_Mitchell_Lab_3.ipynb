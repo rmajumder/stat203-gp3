{
 "cells": [
  {
   "cell_type": "code",
   "execution_count": 3,
   "metadata": {},
   "outputs": [
    {
     "data": {
      "text/plain": [
       "     county           year        crmrte             prbarr       \n",
       " Min.   :  1.0   Min.   :87   Min.   :0.005533   Min.   :0.09277  \n",
       " 1st Qu.: 52.0   1st Qu.:87   1st Qu.:0.020927   1st Qu.:0.20568  \n",
       " Median :105.0   Median :87   Median :0.029986   Median :0.27095  \n",
       " Mean   :101.6   Mean   :87   Mean   :0.033400   Mean   :0.29492  \n",
       " 3rd Qu.:152.0   3rd Qu.:87   3rd Qu.:0.039642   3rd Qu.:0.34438  \n",
       " Max.   :197.0   Max.   :87   Max.   :0.098966   Max.   :1.09091  \n",
       " NA's   :6       NA's   :6    NA's   :6          NA's   :6        \n",
       "        prbconv      prbpris           avgsen           polpc         \n",
       "            : 5   Min.   :0.1500   Min.   : 5.380   Min.   :0.000746  \n",
       " 0.588859022: 2   1st Qu.:0.3648   1st Qu.: 7.340   1st Qu.:0.001231  \n",
       " `          : 1   Median :0.4234   Median : 9.100   Median :0.001485  \n",
       " 0.068376102: 1   Mean   :0.4108   Mean   : 9.647   Mean   :0.001702  \n",
       " 0.140350997: 1   3rd Qu.:0.4568   3rd Qu.:11.420   3rd Qu.:0.001877  \n",
       " 0.154451996: 1   Max.   :0.6000   Max.   :20.700   Max.   :0.009054  \n",
       " (Other)    :86   NA's   :6        NA's   :6        NA's   :6         \n",
       "    density            taxpc             west           central      \n",
       " Min.   :0.00002   Min.   : 25.69   Min.   :0.0000   Min.   :0.0000  \n",
       " 1st Qu.:0.54741   1st Qu.: 30.66   1st Qu.:0.0000   1st Qu.:0.0000  \n",
       " Median :0.96226   Median : 34.87   Median :0.0000   Median :0.0000  \n",
       " Mean   :1.42884   Mean   : 38.06   Mean   :0.2527   Mean   :0.3736  \n",
       " 3rd Qu.:1.56824   3rd Qu.: 40.95   3rd Qu.:0.5000   3rd Qu.:1.0000  \n",
       " Max.   :8.82765   Max.   :119.76   Max.   :1.0000   Max.   :1.0000  \n",
       " NA's   :6         NA's   :6        NA's   :6        NA's   :6       \n",
       "     urban            pctmin80           wcon            wtuc      \n",
       " Min.   :0.00000   Min.   : 1.284   Min.   :193.6   Min.   :187.6  \n",
       " 1st Qu.:0.00000   1st Qu.: 9.845   1st Qu.:250.8   1st Qu.:374.6  \n",
       " Median :0.00000   Median :24.312   Median :281.4   Median :406.5  \n",
       " Mean   :0.08791   Mean   :25.495   Mean   :285.4   Mean   :411.7  \n",
       " 3rd Qu.:0.00000   3rd Qu.:38.142   3rd Qu.:314.8   3rd Qu.:443.4  \n",
       " Max.   :1.00000   Max.   :64.348   Max.   :436.8   Max.   :613.2  \n",
       " NA's   :6         NA's   :6        NA's   :6       NA's   :6      \n",
       "      wtrd            wfir            wser             wmfg      \n",
       " Min.   :154.2   Min.   :170.9   Min.   : 133.0   Min.   :157.4  \n",
       " 1st Qu.:190.9   1st Qu.:286.5   1st Qu.: 229.7   1st Qu.:288.9  \n",
       " Median :203.0   Median :317.3   Median : 253.2   Median :320.2  \n",
       " Mean   :211.6   Mean   :322.1   Mean   : 275.6   Mean   :335.6  \n",
       " 3rd Qu.:225.1   3rd Qu.:345.4   3rd Qu.: 280.5   3rd Qu.:359.6  \n",
       " Max.   :354.7   Max.   :509.5   Max.   :2177.1   Max.   :646.9  \n",
       " NA's   :6       NA's   :6       NA's   :6        NA's   :6      \n",
       "      wfed            wsta            wloc            mix         \n",
       " Min.   :326.1   Min.   :258.3   Min.   :239.2   Min.   :0.01961  \n",
       " 1st Qu.:400.2   1st Qu.:329.3   1st Qu.:297.3   1st Qu.:0.08074  \n",
       " Median :449.8   Median :357.7   Median :308.1   Median :0.10186  \n",
       " Mean   :442.9   Mean   :357.5   Mean   :312.7   Mean   :0.12884  \n",
       " 3rd Qu.:478.0   3rd Qu.:382.6   3rd Qu.:329.2   3rd Qu.:0.15175  \n",
       " Max.   :598.0   Max.   :499.6   Max.   :388.1   Max.   :0.46512  \n",
       " NA's   :6       NA's   :6       NA's   :6       NA's   :6        \n",
       "    pctymle       \n",
       " Min.   :0.06216  \n",
       " 1st Qu.:0.07443  \n",
       " Median :0.07771  \n",
       " Mean   :0.08396  \n",
       " 3rd Qu.:0.08350  \n",
       " Max.   :0.24871  \n",
       " NA's   :6        "
      ]
     },
     "metadata": {},
     "output_type": "display_data"
    }
   ],
   "source": [
    "df = read.csv(\"crime_v2.csv\")\n",
    "summary(df)"
   ]
  }
 ],
 "metadata": {
  "kernelspec": {
   "display_name": "R",
   "language": "R",
   "name": "ir"
  },
  "language_info": {
   "codemirror_mode": "r",
   "file_extension": ".r",
   "mimetype": "text/x-r-source",
   "name": "R",
   "pygments_lexer": "r",
   "version": "3.5.1"
  }
 },
 "nbformat": 4,
 "nbformat_minor": 2
}
